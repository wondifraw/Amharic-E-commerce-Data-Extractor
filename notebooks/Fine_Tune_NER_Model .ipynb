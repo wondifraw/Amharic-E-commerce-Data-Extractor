{
 "cells": [
  {
   "cell_type": "code",
   "execution_count": 2,
   "metadata": {},
   "outputs": [
    {
     "name": "stdout",
     "output_type": "stream",
     "text": [
      "Requirement already satisfied: transformers in c:\\users\\w-hp\\appdata\\local\\programs\\python\\python313\\lib\\site-packages (4.52.4)\n",
      "Requirement already satisfied: packaging in c:\\users\\w-hp\\appdata\\local\\programs\\python\\python313\\lib\\site-packages (25.0)\n",
      "Requirement already satisfied: filelock in c:\\users\\w-hp\\appdata\\local\\programs\\python\\python313\\lib\\site-packages (from transformers) (3.18.0)\n",
      "Requirement already satisfied: huggingface-hub<1.0,>=0.30.0 in c:\\users\\w-hp\\appdata\\local\\programs\\python\\python313\\lib\\site-packages (from transformers) (0.32.4)\n",
      "Requirement already satisfied: numpy>=1.17 in c:\\users\\w-hp\\appdata\\local\\programs\\python\\python313\\lib\\site-packages (from transformers) (2.2.6)\n",
      "Requirement already satisfied: pyyaml>=5.1 in c:\\users\\w-hp\\appdata\\local\\programs\\python\\python313\\lib\\site-packages (from transformers) (6.0.2)\n",
      "Requirement already satisfied: regex!=2019.12.17 in c:\\users\\w-hp\\appdata\\local\\programs\\python\\python313\\lib\\site-packages (from transformers) (2024.11.6)\n",
      "Requirement already satisfied: requests in c:\\users\\w-hp\\appdata\\local\\programs\\python\\python313\\lib\\site-packages (from transformers) (2.32.3)\n",
      "Requirement already satisfied: tokenizers<0.22,>=0.21 in c:\\users\\w-hp\\appdata\\local\\programs\\python\\python313\\lib\\site-packages (from transformers) (0.21.1)\n",
      "Requirement already satisfied: safetensors>=0.4.3 in c:\\users\\w-hp\\appdata\\local\\programs\\python\\python313\\lib\\site-packages (from transformers) (0.5.3)\n",
      "Requirement already satisfied: tqdm>=4.27 in c:\\users\\w-hp\\appdata\\local\\programs\\python\\python313\\lib\\site-packages (from transformers) (4.67.1)\n",
      "Requirement already satisfied: fsspec>=2023.5.0 in c:\\users\\w-hp\\appdata\\local\\programs\\python\\python313\\lib\\site-packages (from huggingface-hub<1.0,>=0.30.0->transformers) (2025.3.0)\n",
      "Requirement already satisfied: typing-extensions>=3.7.4.3 in c:\\users\\w-hp\\appdata\\local\\programs\\python\\python313\\lib\\site-packages (from huggingface-hub<1.0,>=0.30.0->transformers) (4.13.2)\n",
      "Requirement already satisfied: colorama in c:\\users\\w-hp\\appdata\\roaming\\python\\python313\\site-packages (from tqdm>=4.27->transformers) (0.4.6)\n",
      "Requirement already satisfied: charset-normalizer<4,>=2 in c:\\users\\w-hp\\appdata\\local\\programs\\python\\python313\\lib\\site-packages (from requests->transformers) (3.4.2)\n",
      "Requirement already satisfied: idna<4,>=2.5 in c:\\users\\w-hp\\appdata\\local\\programs\\python\\python313\\lib\\site-packages (from requests->transformers) (3.10)\n",
      "Requirement already satisfied: urllib3<3,>=1.21.1 in c:\\users\\w-hp\\appdata\\local\\programs\\python\\python313\\lib\\site-packages (from requests->transformers) (2.4.0)\n",
      "Requirement already satisfied: certifi>=2017.4.17 in c:\\users\\w-hp\\appdata\\local\\programs\\python\\python313\\lib\\site-packages (from requests->transformers) (2025.4.26)\n"
     ]
    },
    {
     "data": {
      "text/plain": [
       "<module 'transformers' from 'c:\\\\Users\\\\W-HP\\\\AppData\\\\Local\\\\Programs\\\\Python\\\\Python313\\\\Lib\\\\site-packages\\\\transformers\\\\__init__.py'>"
      ]
     },
     "execution_count": 2,
     "metadata": {},
     "output_type": "execute_result"
    }
   ],
   "source": [
    "! pip install --upgrade transformers packaging\n",
    "import importlib\n",
    "importlib.reload(__import__('transformers'))"
   ]
  },
  {
   "cell_type": "code",
   "execution_count": 7,
   "metadata": {},
   "outputs": [],
   "source": [
    "import os\n",
    "import sys\n",
    "\n",
    "project_root = os.path.abspath(\".\")\n",
    "if project_root not in sys.path:\n",
    "    sys.path.insert(0, project_root)\n",
    "%autoreload 2\n",
    "import importlib"
   ]
  },
  {
   "cell_type": "code",
   "execution_count": 9,
   "metadata": {},
   "outputs": [
    {
     "ename": "ModuleNotFoundError",
     "evalue": "No module named 'src'",
     "output_type": "error",
     "traceback": [
      "\u001b[31m---------------------------------------------------------------------------\u001b[39m",
      "\u001b[31mModuleNotFoundError\u001b[39m                       Traceback (most recent call last)",
      "\u001b[36mCell\u001b[39m\u001b[36m \u001b[39m\u001b[32mIn[9]\u001b[39m\u001b[32m, line 1\u001b[39m\n\u001b[32m----> \u001b[39m\u001b[32m1\u001b[39m \u001b[38;5;28;01mfrom\u001b[39;00m\u001b[38;5;250m \u001b[39m\u001b[34;01msrc\u001b[39;00m\u001b[34;01m.\u001b[39;00m\u001b[34;01mner\u001b[39;00m\u001b[34;01m.\u001b[39;00m\u001b[34;01mner_pipeline\u001b[39;00m\u001b[38;5;250m \u001b[39m\u001b[38;5;28;01mimport\u001b[39;00m train_ner_model\n",
      "\u001b[31mModuleNotFoundError\u001b[39m: No module named 'src'"
     ]
    }
   ],
   "source": [
    "from src.ner.ner_pipeline import (\n",
    "    load_conll_data,\n",
    "    print_label_distribution,\n",
    "    preview_samples,\n",
    "    create_ner_datasets,\n",
    "    train_ner_model,\n",
    ")"
   ]
  },
  {
   "cell_type": "code",
   "execution_count": null,
   "metadata": {},
   "outputs": [],
   "source": [
    "conll_path = '../data/processed/labeled_data.conll'\n",
    "all_tokens, all_labels, unique_labels = load_conll_data(conll_path)\n",
    "print_label_distribution(all_labels)\n",
    "preview_samples(all_tokens, all_labels, n=3)\n",
    "print(\"Unique labels:\", unique_labels)"
   ]
  },
  {
   "cell_type": "code",
   "execution_count": null,
   "metadata": {},
   "outputs": [],
   "source": [
    "from transformers import AutoTokenizer\n",
    "\n",
    "model_name = 'xlm-roberta-base'  # or any model from your list\n",
    "tokenizer = AutoTokenizer.from_pretrained(model_name)\n",
    "\n",
    "train_dataset, eval_dataset, label_to_id, id_to_label = create_ner_datasets(\n",
    "    all_tokens, all_labels, unique_labels, tokenizer,\n",
    "    max_length=128, test_size=0.2, random_state=42\n",
    ")\n",
    "print(\"Train samples:\", len(train_dataset))\n",
    "print(\"Eval samples:\", len(eval_dataset))"
   ]
  },
  {
   "cell_type": "code",
   "execution_count": null,
   "metadata": {},
   "outputs": [],
   "source": [
    "import transformers\n",
    "from packaging import version\n",
    "\n",
    "output_dir = f\"models/ner_finetuned/{model_name.replace('/', '_')}\"\n",
    "os.makedirs(output_dir, exist_ok=True)\n",
    "\n",
    "# Prepare version-compatible kwargs\n",
    "training_args_kwargs = dict(\n",
    "    output_dir=output_dir,\n",
    "    learning_rate=3e-5,\n",
    "    num_train_epochs=5,\n",
    "    per_device_train_batch_size=8,\n",
    "    per_device_eval_batch_size=8,\n",
    "    weight_decay=0.01,\n",
    "    logging_dir=os.path.join(output_dir, \"logs\"),\n",
    "    logging_steps=50,\n",
    "    save_steps=500,\n",
    "    load_best_model_at_end=True,\n",
    "    metric_for_best_model=\"f1\",\n",
    "    report_to=\"none\",\n",
    "    save_total_limit=2,\n",
    "    seed=42,\n",
    ")\n",
    "\n",
    "if version.parse(transformers.__version__) >= version.parse(\"3.0.0\"):\n",
    "    training_args_kwargs[\"evaluation_strategy\"] = \"steps\"\n",
    "else:\n",
    "    training_args_kwargs[\"evaluate_during_training\"] = True\n",
    "\n",
    "# Patch train_ner_model to accept **training_args_kwargs\n",
    "def train_ner_model_version_compatible(*args, **kwargs):\n",
    "    # Extract training_args_kwargs if present\n",
    "    training_args_kwargs = kwargs.pop('training_args_kwargs', {})\n",
    "    from transformers import TrainingArguments\n",
    "    kwargs['training_args'] = TrainingArguments(**training_args_kwargs)\n",
    "    from src.ner.ner_pipeline import train_ner_model as original_train_ner_model\n",
    "    return original_train_ner_model(*args, **kwargs)\n",
    "\n",
    "# Call the patched function\n",
    "train_ner_model_version_compatible(\n",
    "    model_name=model_name,\n",
    "    train_dataset=train_dataset,\n",
    "    eval_dataset=eval_dataset,\n",
    "    label_to_id=label_to_id,\n",
    "    id_to_label=id_to_label,\n",
    "    output_dir=output_dir,\n",
    "    num_train_epochs=5,\n",
    "    learning_rate=3e-5,\n",
    "    batch_size=8,\n",
    "    use_early_stopping=True,\n",
    "    seed=42,\n",
    "    training_args_kwargs=training_args_kwargs\n",
    ")"
   ]
  }
 ],
 "metadata": {
  "kernelspec": {
   "display_name": "Python 3",
   "language": "python",
   "name": "python3"
  },
  "language_info": {
   "codemirror_mode": {
    "name": "ipython",
    "version": 3
   },
   "file_extension": ".py",
   "mimetype": "text/x-python",
   "name": "python",
   "nbconvert_exporter": "python",
   "pygments_lexer": "ipython3",
   "version": "3.13.2"
  }
 },
 "nbformat": 4,
 "nbformat_minor": 2
}
