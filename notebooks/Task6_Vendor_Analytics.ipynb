{
 "cells": [
  {
   "cell_type": "markdown",
   "metadata": {},
   "source": [
    "# Task 6: FinTech Vendor Scorecard for Micro-Lending\n",
    "Analyzing vendor performance and creating lending scores for Ethiopian e-commerce channels"
   ]
  },
  {
   "cell_type": "code",
   "execution_count": null,
   "metadata": {},
   "outputs": [],
   "source": [
    "# Setup and imports\n",
    "import sys\n",
    "sys.path.append('../src')\n",
    "\n",
    "import pandas as pd\n",
    "import matplotlib.pyplot as plt\n",
    "import seaborn as sns\n",
    "from vendor_analytics.vendor_scorer import VendorAnalyticsEngine\n",
    "from preprocessing.text_preprocessor import AmharicTextPreprocessor"
   ]
  },
  {
   "cell_type": "code",
   "execution_count": null,
   "metadata": {},
   "outputs": [],
   "source": [
    "# Load processed data from Task 1\n",
    "try:\n",
    "    processed_df = pd.read_csv(\"../data/processed/processed_telegram_data.csv\")\n",
    "    print(f\"Loaded {len(processed_df)} processed messages\")\n",
    "    print(f\"Channels: {processed_df['channel'].unique()}\")\nexcept FileNotFoundError:\n",
    "    print(\"Processed data not found. Creating sample data...\")\n",
    "    # Create sample data for demonstration\n",
    "    import numpy as np\n",
    "    from datetime import datetime, timedelta\n",
    "    \n",
    "    sample_data = {\n",
    "        'channel': ['@ZemenExpress', '@sinayelj', '@Shewabrand'] * 100,\n",
    "        'text': ['የሕፃናት ጠርሙስ ዋጋ 150 ብር ቦሌ አካባቢ'] * 300,\n",
    "        'views': np.random.randint(50, 1000, 300),\n",
    "        'forwards': np.random.randint(0, 50, 300),\n",
    "        'replies': np.random.randint(0, 20, 300),\n",
    "        'date': pd.date_range('2024-01-01', periods=300, freq='6H'),\n",
    "        'cleaned_text': ['የሕፃናት ጠርሙስ ዋጋ 150 ብር ቦሌ አካባቢ'] * 300,\n",
    "        'token_count': [8] * 300,\n",
    "        'price_hints': [['150 ብር']] * 300,\n",
    "        'location_hints': [['ቦሌ']] * 300,\n",
    "        'has_amharic': [True] * 300\n",
    "    }\n",
    "    processed_df = pd.DataFrame(sample_data)\n",
    "    print(f\"Created sample data with {len(processed_df)} messages\")"
   ]
  },
  {
   "cell_type": "code",
   "execution_count": null,
   "metadata": {},
   "outputs": [],
   "source": [
    "# Initialize vendor analytics engine\n",
    "analytics = VendorAnalyticsEngine()\n",
    "print(\"Vendor analytics engine initialized\")\n",
    "print(f\"Scoring weights: {analytics.scoring_weights}\")"
   ]
  },
  {
   "cell_type": "code",
   "execution_count": null,
   "metadata": {},
   "outputs": [],
   "source": [
    "# Analyze individual vendor activity\n",
    "sample_vendor = processed_df['channel'].iloc[0]\n",
    "vendor_metrics = analytics.analyze_vendor_activity(processed_df, sample_vendor)\n",
    "\n",
    "print(f\"Sample Vendor Analysis: {sample_vendor}\")\n",
    "print(\"-\" * 40)\n",
    "print(f\"Total posts: {vendor_metrics['total_posts']}\")\n",
    "print(f\"Posts per week: {vendor_metrics['posts_per_week']:.2f}\")\n",
    "print(f\"Average views per post: {vendor_metrics['avg_views_per_post']:.0f}\")\n",
    "print(f\"Total views: {vendor_metrics['total_views']:,}\")\n",
    "print(f\"Posting consistency: {vendor_metrics['posting_consistency']:.2f}\")\n",
    "print(f\"Top post views: {vendor_metrics['top_post']['views']}\")"
   ]
  },
  {
   "cell_type": "code",
   "execution_count": null,
   "metadata": {},
   "outputs": [],
   "source": [
    "# Extract price information for vendor\n",
    "price_info = analytics.extract_price_info(processed_df, sample_vendor)\n",
    "\n",
    "print(f\"Price Analysis for {sample_vendor}:\")\n",
    "print(\"-\" * 40)\n",
    "print(f\"Average price: {price_info['avg_price']:.0f} ETB\")\n",
    "print(f\"Price range: {price_info['price_range'][0]:.0f} - {price_info['price_range'][1]:.0f} ETB\")\n",
    "print(f\"Number of prices found: {price_info['price_count']}\")\n",
    "if price_info['price_count'] > 1:\n",
    "    print(f\"Price standard deviation: {price_info['price_std']:.0f} ETB\")"
   ]
  },
  {
   "cell_type": "code",
   "execution_count": null,
   "metadata": {},
   "outputs": [],
   "source": [
    "# Calculate lending score for sample vendor\n",
    "lending_score = analytics.calculate_lending_score(vendor_metrics, price_info)\n",
    "\n",
    "print(f\"Lending Score Calculation for {sample_vendor}:\")\n",
    "print(\"=\" * 50)\n",
    "print(f\"Final Lending Score: {lending_score}/100\")\n",
    "\n",
    "# Score interpretation\n",
    "if lending_score >= 70:\n",
    "    risk_level = \"HIGH PRIORITY - Ready for micro-lending\"\n",
    "    color = \"🟢\"\nelif lending_score >= 40:\n",
    "    risk_level = \"MEDIUM PRIORITY - Requires additional assessment\"\n",
    "    color = \"🟡\"\nelse:\n",
    "    risk_level = \"LOW PRIORITY - High risk, not recommended\"\n",
    "    color = \"🔴\"\n",
    "\n",
    "print(f\"Risk Assessment: {color} {risk_level}\")"
   ]
  },
  {
   "cell_type": "code",
   "execution_count": null,
   "metadata": {},
   "outputs": [],
   "source": [
    "# Analyze all vendors\n",
    "vendor_scores = analytics.analyze_all_vendors(processed_df)\n",
    "\n",
    "print(f\"Analyzed {len(vendor_scores)} vendors\")\n",
    "print(\"\\nVendor Scorecard Summary:\")\n",
    "print(vendor_scores[['vendor_channel', 'posts_per_week', 'avg_views_per_post', \n",
    "                    'avg_price_etb', 'lending_score']].to_string(index=False))"
   ]
  },
  {
   "cell_type": "code",
   "execution_count": null,
   "metadata": {},
   "outputs": [],
   "source": [
    "# Visualize vendor performance\n",
    "fig, ((ax1, ax2), (ax3, ax4)) = plt.subplots(2, 2, figsize=(15, 12))\n",
    "\n",
    "# 1. Lending Score Distribution\n",
    "ax1.hist(vendor_scores['lending_score'], bins=10, color='skyblue', alpha=0.7)\n",
    "ax1.set_title('Lending Score Distribution')\n",
    "ax1.set_xlabel('Lending Score')\n",
    "ax1.set_ylabel('Number of Vendors')\n",
    "ax1.axvline(70, color='green', linestyle='--', label='High Priority Threshold')\n",
    "ax1.axvline(40, color='orange', linestyle='--', label='Medium Priority Threshold')\n",
    "ax1.legend()\n",
    "\n",
    "# 2. Views vs Lending Score\n",
    "ax2.scatter(vendor_scores['avg_views_per_post'], vendor_scores['lending_score'], \n",
    "           c=vendor_scores['lending_score'], cmap='RdYlGn', alpha=0.7)\n",
    "ax2.set_title('Average Views vs Lending Score')\n",
    "ax2.set_xlabel('Average Views per Post')\n",
    "ax2.set_ylabel('Lending Score')\n",
    "\n",
    "# 3. Posts per Week Comparison\n",
    "vendor_scores.plot(x='vendor_channel', y='posts_per_week', kind='bar', ax=ax3, color='lightcoral')\n",
    "ax3.set_title('Posts per Week by Vendor')\n",
    "ax3.set_xlabel('Vendor Channel')\n",
    "ax3.set_ylabel('Posts per Week')\n",
    "ax3.tick_params(axis='x', rotation=45)\n",
    "\n",
    "# 4. Average Price Comparison\n",
    "vendor_scores.plot(x='vendor_channel', y='avg_price_etb', kind='bar', ax=ax4, color='lightgreen')\n",
    "ax4.set_title('Average Price by Vendor')\n",
    "ax4.set_xlabel('Vendor Channel')\n",
    "ax4.set_ylabel('Average Price (ETB)')\n",
    "ax4.tick_params(axis='x', rotation=45)\n",
    "\n",
    "plt.tight_layout()\n",
    "plt.show()"
   ]
  },
  {
   "cell_type": "code",
   "execution_count": null,
   "metadata": {},
   "outputs": [],
   "source": [
    "# Generate lending recommendations\n",
    "recommendations = analytics.create_lending_recommendations(vendor_scores)\n",
    "\n",
    "print(\"LENDING RECOMMENDATIONS\")\n",
    "print(\"=\" * 50)\n",
    "\n",
    "print(f\"🟢 HIGH PRIORITY VENDORS ({len(recommendations['high_priority'])})\")\n",
    "print(\"   Ready for immediate micro-lending:\")\n",
    "for vendor in recommendations['high_priority']:\n",
    "    print(f\"   • {vendor['channel']} (Score: {vendor['score']:.1f}, Views: {vendor['avg_views']:.0f})\")\n",
    "\n",
    "print(f\"\\n🟡 MEDIUM PRIORITY VENDORS ({len(recommendations['medium_priority'])})\")\n",
    "print(\"   Require additional assessment:\")\n",
    "for vendor in recommendations['medium_priority']:\n",
    "    print(f\"   • {vendor['channel']} (Score: {vendor['score']:.1f}, Views: {vendor['avg_views']:.0f})\")\n",
    "\n",
    "print(f\"\\n🔴 LOW PRIORITY VENDORS ({len(recommendations['low_priority'])})\")\n",
    "print(\"   High risk, not recommended:\")\n",
    "for vendor in recommendations['low_priority']:\n",
    "    print(f\"   • {vendor['channel']} (Score: {vendor['score']:.1f}, Views: {vendor['avg_views']:.0f})\")"
   ]
  },
  {
   "cell_type": "code",
   "execution_count": null,
   "metadata": {},
   "outputs": [],
   "source": [
    "# Top performing vendors detailed analysis\n",
    "top_vendors = vendor_scores.nlargest(3, 'lending_score')\n",
    "\n",
    "print(\"TOP 3 PERFORMING VENDORS\")\n",
    "print(\"=\" * 50)\n",
    "\n",
    "for i, (_, vendor) in enumerate(top_vendors.iterrows(), 1):\n",
    "    print(f\"\\n#{i}. {vendor['vendor_channel']}\")\n",
    "    print(f\"   Lending Score: {vendor['lending_score']:.1f}/100\")\n",
    "    print(f\"   Posts per Week: {vendor['posts_per_week']:.1f}\")\n",
    "    print(f\"   Average Views: {vendor['avg_views_per_post']:.0f}\")\n",
    "    print(f\"   Average Price: {vendor['avg_price_etb']:.0f} ETB\")\n",
    "    print(f\"   Total Posts: {vendor['total_posts']}\")\n",
    "    print(f\"   Top Post Views: {vendor['top_post_views']}\")\n",
    "    print(f\"   Weeks Active: {vendor['weeks_active']:.1f}\")"
   ]
  },
  {
   "cell_type": "code",
   "execution_count": null,
   "metadata": {},
   "outputs": [],
   "source": [
    "# Generate comprehensive vendor report\n",
    "report_path = analytics.generate_vendor_report(vendor_scores)\n",
    "print(f\"Comprehensive vendor report saved to: {report_path}\")"
   ]
  },
  {
   "cell_type": "code",
   "execution_count": null,
   "metadata": {},
   "outputs": [],
   "source": [
    "# Business impact summary\n",
    "total_vendors = len(vendor_scores)\n",
    "high_priority = len(recommendations['high_priority'])\n",
    "medium_priority = len(recommendations['medium_priority'])\n",
    "low_priority = len(recommendations['low_priority'])\n",
    "\n",
    "print(\"BUSINESS IMPACT SUMMARY\")\n",
    "print(\"=\" * 50)\n",
    "print(f\"Total vendors analyzed: {total_vendors}\")\n",
    "print(f\"High priority (ready for lending): {high_priority} ({high_priority/total_vendors*100:.1f}%)\")\n",
    "print(f\"Medium priority (needs assessment): {medium_priority} ({medium_priority/total_vendors*100:.1f}%)\")\n",
    "print(f\"Low priority (high risk): {low_priority} ({low_priority/total_vendors*100:.1f}%)\")\n",
    "\n",
    "avg_score = vendor_scores['lending_score'].mean()\n",
    "print(f\"\\nAverage lending score: {avg_score:.1f}/100\")\n",
    "\n",
    "if high_priority > 0:\n",
    "    avg_high_score = vendor_scores[vendor_scores['lending_score'] >= 70]['lending_score'].mean()\n",
    "    print(f\"Average score of high-priority vendors: {avg_high_score:.1f}/100\")\n",
    "\n",
    "print(\"\\nRECOMMENDATIONS FOR MICRO-LENDING:\")\n",
    "print(f\"• Focus on {high_priority} high-priority vendors for immediate lending\")\n",
    "print(f\"• Conduct detailed assessment of {medium_priority} medium-priority vendors\")\n",
    "print(f\"• Monitor {low_priority} low-priority vendors for improvement\")\n",
    "print(\"• Use real-time scoring for ongoing risk assessment\")"
   ]
  }
 ],
 "metadata": {
  "kernelspec": {
   "display_name": "Python 3",
   "language": "python",
   "name": "python3"
  },
  "language_info": {
   "codemirror_mode": {
    "name": "ipython",
    "version": 3
   },
   "file_extension": ".py",
   "mimetype": "text/x-python",
   "name": "python",
   "nbconvert_exporter": "python",
   "pygments_lexer": "ipython3",
   "version": "3.8.0"
  }
 },
 "nbformat": 4,
 "nbformat_minor": 4
}