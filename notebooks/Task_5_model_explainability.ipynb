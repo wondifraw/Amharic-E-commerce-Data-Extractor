{
 "cells": [
  {
   "cell_type": "code",
   "execution_count": null,
   "metadata": {},
   "outputs": [],
   "source": [
    "import sys\n",
    "import os\n",
    "\n",
    "scripts_path = os.path.abspath(\"../scripts\")\n",
    "if scripts_path not in sys.path:\n",
    "    sys.path.insert(0, scripts_path)"
   ]
  },
  {
   "cell_type": "code",
   "execution_count": null,
   "metadata": {},
   "outputs": [],
   "source": [
    "from task_5_interpret import interpret_model_predictions\n",
    "\n",
    "# Example usage:\n",
    "explanation = interpret_model_predictions(model, tokenizer, \"Some input text\")\n",
    "print(explanation)"
   ]
  }
 ],
 "metadata": {
  "language_info": {
   "name": "python"
  }
 },
 "nbformat": 4,
 "nbformat_minor": 2
}
