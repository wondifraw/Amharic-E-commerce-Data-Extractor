{
 "cells": [
  {
   "cell_type": "markdown",
   "metadata": {},
   "source": [
    "## Amharic Named Entity Recognition (NER) system"
   ]
  },
  {
   "cell_type": "markdown",
   "metadata": {},
   "source": [
    "### Importing the necessary libraries"
   ]
  },
  {
   "cell_type": "code",
   "execution_count": 1,
   "metadata": {},
   "outputs": [],
   "source": [
    "import os\n",
    "import sys\n",
    "\n",
    "import pandas as pd\n",
    "import demoji  \n",
    "import regex as re\n",
    "\n",
    "# from amseg.amharicNormalizer import AmharicNormalizer as normalizer\n",
    "# from amseg.amharicSegmenter import AmharicSegmenter\n",
    "\n"
   ]
  },
  {
   "cell_type": "code",
   "execution_count": 2,
   "metadata": {},
   "outputs": [],
   "source": [
    "import warnings\n",
    "warnings.filterwarnings('ignore')"
   ]
  },
  {
   "cell_type": "code",
   "execution_count": 3,
   "metadata": {},
   "outputs": [],
   "source": [
    "sys.path.append(os.path.abspath('../scripts'))\n",
    "from Utils import DataUtils\n",
    "\n",
    "utils = DataUtils()"
   ]
  },
  {
   "cell_type": "markdown",
   "metadata": {},
   "source": [
    "#### Loading and cleaning data "
   ]
  },
  {
   "cell_type": "code",
   "execution_count": 4,
   "metadata": {},
   "outputs": [],
   "source": [
    "telegram_data = pd.read_csv('../data/telegram_data.csv')"
   ]
  },
  {
   "cell_type": "code",
   "execution_count": 5,
   "metadata": {},
   "outputs": [],
   "source": [
    "data_clean_message = telegram_data[~(telegram_data['Message'].isna())]\n",
    "data_clean_message.loc[:,'message_no_emoji'] = data_clean_message['Message'].apply(lambda x: utils.remove_emoji(x))\n",
    "data_clean_message = data_clean_message[data_clean_message['message_no_emoji'].str.contains(\"Price\")]"
   ]
  },
  {
   "cell_type": "code",
   "execution_count": 6,
   "metadata": {},
   "outputs": [],
   "source": [
    "replacements = {\n",
    "    'Price': 'ዋጋ',\n",
    "    'Br' : ' ብር',\n",
    "    'br ': ' ብር',\n",
    "    'Address': ' አድራሻ',\n",
    "    'Addis Ababa': 'አዲስ አበባ',\n",
    "    'HayaHulet': 'ሀያሁለት', \n",
    "}\n",
    "\n",
    "data_clean_message['message_no_emoji'] = data_clean_message['message_no_emoji'].replace(replacements)\n"
   ]
  },
  {
   "cell_type": "code",
   "execution_count": 279,
   "metadata": {},
   "outputs": [],
   "source": [
    "message_only = data_clean_message['message_no_emoji']\n",
    "message_only.to_csv('../data/message.csv', index=False)"
   ]
  },
  {
   "cell_type": "markdown",
   "metadata": {},
   "source": [
    "#### Preprocess text data"
   ]
  },
  {
   "cell_type": "code",
   "execution_count": 275,
   "metadata": {},
   "outputs": [],
   "source": [
    "messages = pd.read_csv('../data/message.csv')\n",
    "messages['normalized'] = messages['message_no_emoji'].apply(lambda x: normalizer.normalize(x))"
   ]
  },
  {
   "cell_type": "code",
   "execution_count": null,
   "metadata": {},
   "outputs": [],
   "source": [
    "corpus = []\n",
    "for i in range(messages.shape[0]):\n",
    "  corpus.extend(utils.tokenizer(messages['normalized'].iloc[i]))"
   ]
  },
  {
   "cell_type": "code",
   "execution_count": null,
   "metadata": {},
   "outputs": [],
   "source": [
    "labeled_data = utils.label_conll_format(corpus)\n",
    "\n",
    "\n",
    "co_nll_output = []\n",
    "for word, label in labeled_data:\n",
    "    co_nll_output.append(f\"{word} {label}\")\n",
    "\n",
    "co_nll_formatted_output = \"\\n\".join(co_nll_output) + \"\\n\"\n",
    "\n",
    "with open('../data/conll_output.txt', 'w', encoding='utf-8') as f:\n",
    "    f.write(co_nll_formatted_output)\n"
   ]
  },
  {
   "cell_type": "markdown",
   "metadata": {},
   "source": [
    "#### Conll Format"
   ]
  },
  {
   "cell_type": "code",
   "execution_count": 1,
   "metadata": {},
   "outputs": [
    {
     "name": "stdout",
     "output_type": "stream",
     "text": [
      "ዋጋ B-Price\n",
      "\n",
      "3500 I-Price\n",
      "\n",
      "ብር I-Price\n",
      "\n",
      "ለሱቅና O\n",
      "\n",
      "ብዛት O\n",
      "\n",
      "ተረካቢወች O\n",
      "\n",
      "ባስተያየት O\n",
      "\n",
      "እናስረክባለን O\n",
      "\n",
      "0907000777 O\n",
      "\n",
      "0919181353 O\n",
      "\n",
      "አድራሻ O\n",
      "\n",
      "አድስ B-LOC\n",
      "\n",
      "አበባ I-LOC\n",
      "\n",
      "ሃያሁለት I-LOC\n",
      "\n",
      "(22 I-LOC\n",
      "\n"
     ]
    }
   ],
   "source": [
    "with open('../data/conll_output.txt', mode='r', encoding='utf-8') as file:\n",
    "    counter = 0\n",
    "    for line in file:\n",
    "        if counter == 15:\n",
    "            break\n",
    "        print(line)\n",
    "        counter += 1"
   ]
  }
 ],
 "metadata": {
  "kernelspec": {
   "display_name": ".venv",
   "language": "python",
   "name": "python3"
  },
  "language_info": {
   "codemirror_mode": {
    "name": "ipython",
    "version": 3
   },
   "file_extension": ".py",
   "mimetype": "text/x-python",
   "name": "python",
   "nbconvert_exporter": "python",
   "pygments_lexer": "ipython3",
   "version": "3.12.5"
  }
 },
 "nbformat": 4,
 "nbformat_minor": 2
}
