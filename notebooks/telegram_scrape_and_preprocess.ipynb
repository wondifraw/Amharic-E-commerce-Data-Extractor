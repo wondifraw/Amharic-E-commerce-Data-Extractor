{
  "cells": [
    {
      "cell_type": "markdown",
      "metadata": {
        "colab_type": "text",
        "id": "view-in-github"
      },
      "source": [
        "<a href=\"https://colab.research.google.com/github/wondifraw/10Acadamy/blob/main/Scrapper.ipynb\" target=\"_parent\"><img src=\"https://colab.research.google.com/assets/colab-badge.svg\" alt=\"Open In Colab\"/></a>"
      ]
    },
    {
      "cell_type": "code",
      "execution_count": 1,
      "metadata": {
        "colab": {
          "base_uri": "https://localhost:8080/"
        },
        "id": "PZX1gdx6Y3H5",
        "outputId": "ee9b91fd-a3f6-444f-a61f-cb92d953ec3b"
      },
      "outputs": [
        {
          "name": "stdout",
          "output_type": "stream",
          "text": [
            "Collecting telethon\n",
            "  Downloading Telethon-1.40.0-py3-none-any.whl.metadata (3.9 kB)\n",
            "Collecting pyaes (from telethon)\n",
            "  Downloading pyaes-1.6.1.tar.gz (28 kB)\n",
            "  Preparing metadata (setup.py) ... \u001b[?25l\u001b[?25hdone\n",
            "Requirement already satisfied: rsa in /usr/local/lib/python3.11/dist-packages (from telethon) (4.9.1)\n",
            "Requirement already satisfied: pyasn1>=0.1.3 in /usr/local/lib/python3.11/dist-packages (from rsa->telethon) (0.6.1)\n",
            "Downloading Telethon-1.40.0-py3-none-any.whl (722 kB)\n",
            "\u001b[2K   \u001b[90m━━━━━━━━━━━━━━━━━━━━━━━━━━━━━━━━━━━━━━━━\u001b[0m \u001b[32m722.0/722.0 kB\u001b[0m \u001b[31m19.1 MB/s\u001b[0m eta \u001b[36m0:00:00\u001b[0m\n",
            "\u001b[?25hBuilding wheels for collected packages: pyaes\n",
            "  Building wheel for pyaes (setup.py) ... \u001b[?25l\u001b[?25hdone\n",
            "  Created wheel for pyaes: filename=pyaes-1.6.1-py3-none-any.whl size=26347 sha256=732a3bbc7e797ca7c2600e0d396db40baf3051fe56c475352e7de1c7c66ce030\n",
            "  Stored in directory: /root/.cache/pip/wheels/4e/52/33/010d0843550bffb6a591b11629070ae140c0ad4f53e68a3bd3\n",
            "Successfully built pyaes\n",
            "Installing collected packages: pyaes, telethon\n",
            "Successfully installed pyaes-1.6.1 telethon-1.40.0\n"
          ]
        }
      ],
      "source": [
        "!pip install telethon "
      ]
    },
    {
      "cell_type": "code",
      "execution_count": 2,
      "metadata": {
        "colab": {
          "base_uri": "https://localhost:8080/"
        },
        "id": "VHBZ9B_3fym-",
        "outputId": "dd9cb471-e497-4d48-faf6-210ecb36163f"
      },
      "outputs": [
        {
          "name": "stdout",
          "output_type": "stream",
          "text": [
            "Requirement already satisfied: telethon in /usr/local/lib/python3.11/dist-packages (1.40.0)\n",
            "Collecting python-dotenv\n",
            "  Downloading python_dotenv-1.1.0-py3-none-any.whl.metadata (24 kB)\n",
            "Requirement already satisfied: pyaes in /usr/local/lib/python3.11/dist-packages (from telethon) (1.6.1)\n",
            "Requirement already satisfied: rsa in /usr/local/lib/python3.11/dist-packages (from telethon) (4.9.1)\n",
            "Requirement already satisfied: pyasn1>=0.1.3 in /usr/local/lib/python3.11/dist-packages (from rsa->telethon) (0.6.1)\n",
            "Downloading python_dotenv-1.1.0-py3-none-any.whl (20 kB)\n",
            "Installing collected packages: python-dotenv\n",
            "Successfully installed python-dotenv-1.1.0\n"
          ]
        }
      ],
      "source": [
        "!pip install telethon python-dotenv"
      ]
    },
    {
      "cell_type": "code",
      "execution_count": 17,
      "metadata": {
        "id": "W5_B6HdwVgui"
      },
      "outputs": [],
      "source": [
        "\n"
      ]
    },
    {
      "cell_type": "code",
      "execution_count": 22,
      "metadata": {
        "colab": {
          "base_uri": "https://localhost:8080/"
        },
        "id": "7X1-siIOSASd",
        "outputId": "7704a8bc-5672-4957-eeb1-331fec0a946b"
      },
      "outputs": [
        {
          "name": "stdout",
          "output_type": "stream",
          "text": [
            "Connecting to Telegram...\n",
            "Fetching channel entity for @Leyueqa...\n",
            "Fetching messages from @Leyueqa...\n",
            "Successfully fetched 1000 messages from @Leyueqa.\n",
            "Connecting to Telegram...\n",
            "Fetching channel entity for @sinayelj...\n",
            "Fetching messages from @sinayelj...\n",
            "Successfully fetched 1000 messages from @sinayelj.\n",
            "Connecting to Telegram...\n",
            "Fetching channel entity for @Shewabrand...\n",
            "Fetching messages from @Shewabrand...\n",
            "Successfully fetched 1000 messages from @Shewabrand.\n",
            "Connecting to Telegram...\n",
            "Fetching channel entity for @helloomarketethiopia...\n",
            "Fetching messages from @helloomarketethiopia...\n",
            "Successfully fetched 1000 messages from @helloomarketethiopia.\n",
            "Connecting to Telegram...\n",
            "Fetching channel entity for @modernshoppingcenter...\n",
            "Fetching messages from @modernshoppingcenter...\n",
            "Successfully fetched 1000 messages from @modernshoppingcenter.\n",
            "Data successfully saved to data/raw/telegram_messages.csv\n",
            "All messages saved to data/raw/telegram_messages.csv\n"
          ]
        }
      ],
      "source": [
        "from telegram_scraper import TelegramScraper\n",
        "import asyncio\n",
        "\n",
        "# Telegram API\n",
        "api_id = '27932004'\n",
        "api_hash = ''\n",
        "\n",
        "scraper = TelegramScraper(api_id, api_hash)\n",
        "# Function to fetch messages from all channels and save as CSV\n",
        "async def fetch_and_save_all(scraper, limit=1000):\n",
        "    all_data = []\n",
        "    for channel in scraper.get_channel_list():\n",
        "        data = await scraper.fetch_messages(channel, limit=limit)\n",
        "        all_data.extend(data)\n",
        "    scraper.save_data_csv(all_data, 'data/raw/telegram_messages.csv')\n",
        "    print('All messages saved to data/raw/telegram_messages.csv')\n",
        "# Run the scraping and saving\n",
        "await fetch_and_save_all(scraper, limit=1000)"
      ]
    },
    {
      "cell_type": "code",
      "execution_count": null,
      "metadata": {
        "id": "BM0tFP_xUZTr"
      },
      "outputs": [
        {
          "name": "stdout",
          "output_type": "stream",
          "text": [
            "  Channel Username                                            Message\n",
            "0          Leyueqa  ለላውንደሪ ማሽኖችና ፍሪጆች እግር የሚሆን ለቤቶና ለቢሮ እቃዎች እንዳይን...\n",
            "1          Leyueqa  በተጨማሪ ከ ብር በላይ የሆኑ ሁለት ዕቃዎች በአንድዲሊቨሪ ግዜ ሲያዙ ስጦ...\n",
            "4          Leyueqa  የተለያዩ ነገሮችን መፍጨት እና መደባለቅ የሚችል አንድ የእንቁላል መምቻ ...\n",
            "5          Leyueqa  መብራት ሲጠፋብዎ አዲስ የእጅ ባትሪ በቻርጀር የሚሰራ ለመያዝ ቀላል እና ...\n",
            "6          Leyueqa  የኤሌክትሪክ ማሞቂያ ያለው የምሳ እቃ ከዚህ በኋላ የያዝኩት ምግብ ይቀዘቅ...\n",
            "✅ Preprocessed Amharic messages (cleaned & deduplicated) saved to: ../data/processed/telegram_cleaned_messages.csv\n"
          ]
        }
      ],
      "source": [
        "import pandas as pd\n",
        "from preprocessing.amharic_text import *\n",
        "\n",
        "input_path = '../data/raw/telegram_raw_messages.csv'\n",
        "output_path = '../data/processed/telegram_cleaned_messages.csv'\n",
        "# Load data\n",
        "df = pd.read_csv(input_path)\n",
        "\n",
        "# Ensure column is string and apply preprocessing\n",
        "df['Message'] = df['Message'].astype(str).apply(preprocess_amharic_message)\n",
        "\n",
        "# Remove empty messages (after preprocessing) and drop duplicates\n",
        "df = df[df['Message'].str.strip().astype(bool)]  # keep non-empty\n",
        "df = df.drop_duplicates(subset=['Message'])      # drop duplicate messages\n",
        "\n",
        "# Show sample\n",
        "print(df[['Channel Username', 'Message']].head())\n",
        "\n",
        "# Save result\n",
        "df.to_csv(output_path, index=False, encoding='utf-8')\n",
        "print(f\"✅ Preprocessed Amharic messages (cleaned & deduplicated) saved to: {output_path}\")"
      ]
    },
    {
      "cell_type": "code",
      "execution_count": null,
      "metadata": {},
      "outputs": [],
      "source": []
    },
    {
      "cell_type": "code",
      "execution_count": null,
      "metadata": {},
      "outputs": [],
      "source": []
    },
    {
      "cell_type": "code",
      "execution_count": 7,
      "metadata": {},
      "outputs": [],
      "source": [
        "import sys\n",
        "import os\n",
        "import asyncio\n",
        "# Add project root to sys.path\n",
        "project_root = os.path.abspath(os.path.join(os.getcwd(), '..'))\n",
        "if project_root not in sys.path:\n",
        "    sys.path.insert(0, project_root)\n",
        "\n"
      ]
    },
    {
      "cell_type": "code",
      "execution_count": 1,
      "metadata": {},
      "outputs": [
        {
          "ename": "ModuleNotFoundError",
          "evalue": "No module named 'etnltk.amharic_stopwords'",
          "output_type": "error",
          "traceback": [
            "\u001b[31m---------------------------------------------------------------------------\u001b[39m",
            "\u001b[31mModuleNotFoundError\u001b[39m                       Traceback (most recent call last)",
            "\u001b[36mCell\u001b[39m\u001b[36m \u001b[39m\u001b[32mIn[1]\u001b[39m\u001b[32m, line 5\u001b[39m\n\u001b[32m      3\u001b[39m \u001b[38;5;28;01mfrom\u001b[39;00m\u001b[38;5;250m \u001b[39m\u001b[34;01mtyping\u001b[39;00m\u001b[38;5;250m \u001b[39m\u001b[38;5;28;01mimport\u001b[39;00m List, Dict, Optional\n\u001b[32m      4\u001b[39m \u001b[38;5;28;01mimport\u001b[39;00m\u001b[38;5;250m \u001b[39m\u001b[34;01mlogging\u001b[39;00m\n\u001b[32m----> \u001b[39m\u001b[32m5\u001b[39m \u001b[38;5;28;01mfrom\u001b[39;00m\u001b[38;5;250m \u001b[39m\u001b[34;01metnltk\u001b[39;00m\u001b[34;01m.\u001b[39;00m\u001b[34;01mamharic_stopwords\u001b[39;00m\u001b[38;5;250m \u001b[39m\u001b[38;5;28;01mimport\u001b[39;00m STOPWORDS\n\u001b[32m      6\u001b[39m \u001b[38;5;28;01mfrom\u001b[39;00m\u001b[38;5;250m \u001b[39m\u001b[34;01metnltk\u001b[39;00m\u001b[34;01m.\u001b[39;00m\u001b[34;01mcleaners\u001b[39;00m\u001b[38;5;250m \u001b[39m\u001b[38;5;28;01mimport\u001b[39;00m clean_text\n\u001b[32m      7\u001b[39m \u001b[38;5;28;01mfrom\u001b[39;00m\u001b[38;5;250m \u001b[39m\u001b[34;01metnltk\u001b[39;00m\u001b[34;01m.\u001b[39;00m\u001b[34;01mnormalizers\u001b[39;00m\u001b[38;5;250m \u001b[39m\u001b[38;5;28;01mimport\u001b[39;00m normalize\n",
            "\u001b[31mModuleNotFoundError\u001b[39m: No module named 'etnltk.amharic_stopwords'"
          ]
        }
      ],
      "source": [
        "\n",
        "import re\n",
        "import pandas as pd\n",
        "from typing import List, Dict, Optional\n",
        "import logging\n",
        "from etnltk.amharic_stopwords import STOPWORDS\n",
        "from etnltk.cleaners import clean_text\n",
        "from etnltk.normalizers import normalize\n",
        "from etnltk.tokenizers import AmharicTokenizer"
      ]
    },
    {
      "cell_type": "code",
      "execution_count": 10,
      "metadata": {},
      "outputs": [
        {
          "ename": "SyntaxError",
          "evalue": "source code string cannot contain null bytes (<string>)",
          "output_type": "error",
          "traceback": [
            "Traceback \u001b[36m(most recent call last)\u001b[39m:\n",
            "  File \u001b[92m~\\AppData\\Roaming\\Python\\Python313\\site-packages\\IPython\\core\\interactiveshell.py:3670\u001b[39m in \u001b[95mrun_code\u001b[39m\n    exec(code_obj, self.user_global_ns, self.user_ns)\n",
            "\u001b[36m  \u001b[39m\u001b[36mCell\u001b[39m\u001b[36m \u001b[39m\u001b[32mIn[10]\u001b[39m\u001b[32m, line 1\u001b[39m\n\u001b[31m    \u001b[39m\u001b[31mfrom src.amharic_text_processing.amharic_text import (\u001b[39m\n",
            "  \u001b[36mFile \u001b[39m\u001b[32m<string>\u001b[39m\n\u001b[31mSyntaxError\u001b[39m\u001b[31m:\u001b[39m source code string cannot contain null bytes\n"
          ]
        }
      ],
      "source": [
        "from src.amharic_text_processing.amharic_text import (\n",
        "    preprocess_messages,\n",
        "    preprocess_amharic_message,\n",
        "    load_and_preprocess_csv,\n",
        "    extract_entities_from_messages\n",
        ")"
      ]
    },
    {
      "cell_type": "code",
      "execution_count": 2,
      "metadata": {},
      "outputs": [
        {
          "ename": "SyntaxError",
          "evalue": "source code string cannot contain null bytes (<string>)",
          "output_type": "error",
          "traceback": [
            "Traceback \u001b[36m(most recent call last)\u001b[39m:\n",
            "  File \u001b[92m~\\AppData\\Roaming\\Python\\Python313\\site-packages\\IPython\\core\\interactiveshell.py:3670\u001b[39m in \u001b[95mrun_code\u001b[39m\n    exec(code_obj, self.user_global_ns, self.user_ns)\n",
            "  Cell \u001b[92mIn[2]\u001b[39m\u001b[92m, line 2\u001b[39m\n    from scripts.task_1_ingest import main\n",
            "\u001b[36m  \u001b[39m\u001b[36mFile \u001b[39m\u001b[32md:\\10Acadamy\\Amharic-E-commerce-Data-Extractor\\scripts\\task_1_ingest.py:14\u001b[39m\n\u001b[31m    \u001b[39m\u001b[31mfrom src.amharic_text_processing.amharic_text import preprocess_messages, load_and_preprocess_csv\u001b[39m\n",
            "  \u001b[36mFile \u001b[39m\u001b[32m<string>\u001b[39m\n\u001b[31mSyntaxError\u001b[39m\u001b[31m:\u001b[39m source code string cannot contain null bytes\n"
          ]
        }
      ],
      "source": [
        "\n",
        "\n",
        "# credentials here\n",
        "api_id = '27932004'  # My TG API ID\n",
        "api_hash = '611c1eca9d988b82f4008dc33126c6fe'  # My TG Hash\n",
        "\n",
        "# Run the pipeline\n",
        "await main(api_id, api_hash)"
      ]
    },
    {
      "cell_type": "code",
      "execution_count": 3,
      "metadata": {},
      "outputs": [
        {
          "ename": "FileNotFoundError",
          "evalue": "[Errno 2] No such file or directory: 'src/amharic_text_processing/amharic_text.py'",
          "output_type": "error",
          "traceback": [
            "\u001b[31m---------------------------------------------------------------------------\u001b[39m",
            "\u001b[31mFileNotFoundError\u001b[39m                         Traceback (most recent call last)",
            "\u001b[36mCell\u001b[39m\u001b[36m \u001b[39m\u001b[32mIn[3]\u001b[39m\u001b[32m, line 1\u001b[39m\n\u001b[32m----> \u001b[39m\u001b[32m1\u001b[39m \u001b[38;5;28;01mwith\u001b[39;00m \u001b[38;5;28;43mopen\u001b[39;49m\u001b[43m(\u001b[49m\u001b[33;43m'\u001b[39;49m\u001b[33;43msrc/amharic_text_processing/amharic_text.py\u001b[39;49m\u001b[33;43m'\u001b[39;49m\u001b[43m,\u001b[49m\u001b[43m \u001b[49m\u001b[33;43m'\u001b[39;49m\u001b[33;43mrb\u001b[39;49m\u001b[33;43m'\u001b[39;49m\u001b[43m)\u001b[49m \u001b[38;5;28;01mas\u001b[39;00m f:\n\u001b[32m      2\u001b[39m     content = f.read()\n\u001b[32m      3\u001b[39m     \u001b[38;5;28mprint\u001b[39m(\u001b[33mb\u001b[39m\u001b[33m'\u001b[39m\u001b[38;5;130;01m\\x00\u001b[39;00m\u001b[33m'\u001b[39m \u001b[38;5;129;01min\u001b[39;00m content)\n",
            "\u001b[36mFile \u001b[39m\u001b[32m~\\AppData\\Roaming\\Python\\Python313\\site-packages\\IPython\\core\\interactiveshell.py:326\u001b[39m, in \u001b[36m_modified_open\u001b[39m\u001b[34m(file, *args, **kwargs)\u001b[39m\n\u001b[32m    319\u001b[39m \u001b[38;5;28;01mif\u001b[39;00m file \u001b[38;5;129;01min\u001b[39;00m {\u001b[32m0\u001b[39m, \u001b[32m1\u001b[39m, \u001b[32m2\u001b[39m}:\n\u001b[32m    320\u001b[39m     \u001b[38;5;28;01mraise\u001b[39;00m \u001b[38;5;167;01mValueError\u001b[39;00m(\n\u001b[32m    321\u001b[39m         \u001b[33mf\u001b[39m\u001b[33m\"\u001b[39m\u001b[33mIPython won\u001b[39m\u001b[33m'\u001b[39m\u001b[33mt let you open fd=\u001b[39m\u001b[38;5;132;01m{\u001b[39;00mfile\u001b[38;5;132;01m}\u001b[39;00m\u001b[33m by default \u001b[39m\u001b[33m\"\u001b[39m\n\u001b[32m    322\u001b[39m         \u001b[33m\"\u001b[39m\u001b[33mas it is likely to crash IPython. If you know what you are doing, \u001b[39m\u001b[33m\"\u001b[39m\n\u001b[32m    323\u001b[39m         \u001b[33m\"\u001b[39m\u001b[33myou can use builtins\u001b[39m\u001b[33m'\u001b[39m\u001b[33m open.\u001b[39m\u001b[33m\"\u001b[39m\n\u001b[32m    324\u001b[39m     )\n\u001b[32m--> \u001b[39m\u001b[32m326\u001b[39m \u001b[38;5;28;01mreturn\u001b[39;00m \u001b[43mio_open\u001b[49m\u001b[43m(\u001b[49m\u001b[43mfile\u001b[49m\u001b[43m,\u001b[49m\u001b[43m \u001b[49m\u001b[43m*\u001b[49m\u001b[43margs\u001b[49m\u001b[43m,\u001b[49m\u001b[43m \u001b[49m\u001b[43m*\u001b[49m\u001b[43m*\u001b[49m\u001b[43mkwargs\u001b[49m\u001b[43m)\u001b[49m\n",
            "\u001b[31mFileNotFoundError\u001b[39m: [Errno 2] No such file or directory: 'src/amharic_text_processing/amharic_text.py'"
          ]
        }
      ],
      "source": [
        "with open('src/amharic_text_processing/amharic_text.py', 'rb') as f:\n",
        "    content = f.read()\n",
        "    print(b'\\x00' in content)"
      ]
    },
    {
      "cell_type": "code",
      "execution_count": null,
      "metadata": {},
      "outputs": [],
      "source": []
    }
  ],
  "metadata": {
    "accelerator": "GPU",
    "colab": {
      "gpuType": "T4",
      "include_colab_link": true,
      "provenance": []
    },
    "kernelspec": {
      "display_name": "Python 3",
      "name": "python3"
    },
    "language_info": {
      "codemirror_mode": {
        "name": "ipython",
        "version": 3
      },
      "file_extension": ".py",
      "mimetype": "text/x-python",
      "name": "python",
      "nbconvert_exporter": "python",
      "pygments_lexer": "ipython3",
      "version": "3.13.2"
    }
  },
  "nbformat": 4,
  "nbformat_minor": 0
}
