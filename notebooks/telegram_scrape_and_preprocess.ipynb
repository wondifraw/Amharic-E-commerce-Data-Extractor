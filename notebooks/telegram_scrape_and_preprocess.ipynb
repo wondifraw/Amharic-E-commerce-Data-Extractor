{
  "cells": [
    {
      "cell_type": "markdown",
      "metadata": {
        "colab_type": "text",
        "id": "view-in-github"
      },
      "source": [
        "<a href=\"https://colab.research.google.com/github/wondifraw/10Acadamy/blob/main/Scrapper.ipynb\" target=\"_parent\"><img src=\"https://colab.research.google.com/assets/colab-badge.svg\" alt=\"Open In Colab\"/></a>"
      ]
    },
    {
      "cell_type": "code",
      "execution_count": 1,
      "metadata": {
        "colab": {
          "base_uri": "https://localhost:8080/"
        },
        "id": "PZX1gdx6Y3H5",
        "outputId": "ee9b91fd-a3f6-444f-a61f-cb92d953ec3b"
      },
      "outputs": [
        {
          "name": "stdout",
          "output_type": "stream",
          "text": [
            "Collecting telethon\n",
            "  Downloading Telethon-1.40.0-py3-none-any.whl.metadata (3.9 kB)\n",
            "Collecting pyaes (from telethon)\n",
            "  Downloading pyaes-1.6.1.tar.gz (28 kB)\n",
            "  Preparing metadata (setup.py) ... \u001b[?25l\u001b[?25hdone\n",
            "Requirement already satisfied: rsa in /usr/local/lib/python3.11/dist-packages (from telethon) (4.9.1)\n",
            "Requirement already satisfied: pyasn1>=0.1.3 in /usr/local/lib/python3.11/dist-packages (from rsa->telethon) (0.6.1)\n",
            "Downloading Telethon-1.40.0-py3-none-any.whl (722 kB)\n",
            "\u001b[2K   \u001b[90m━━━━━━━━━━━━━━━━━━━━━━━━━━━━━━━━━━━━━━━━\u001b[0m \u001b[32m722.0/722.0 kB\u001b[0m \u001b[31m19.1 MB/s\u001b[0m eta \u001b[36m0:00:00\u001b[0m\n",
            "\u001b[?25hBuilding wheels for collected packages: pyaes\n",
            "  Building wheel for pyaes (setup.py) ... \u001b[?25l\u001b[?25hdone\n",
            "  Created wheel for pyaes: filename=pyaes-1.6.1-py3-none-any.whl size=26347 sha256=732a3bbc7e797ca7c2600e0d396db40baf3051fe56c475352e7de1c7c66ce030\n",
            "  Stored in directory: /root/.cache/pip/wheels/4e/52/33/010d0843550bffb6a591b11629070ae140c0ad4f53e68a3bd3\n",
            "Successfully built pyaes\n",
            "Installing collected packages: pyaes, telethon\n",
            "Successfully installed pyaes-1.6.1 telethon-1.40.0\n"
          ]
        }
      ],
      "source": [
        "!pip install telethon "
      ]
    },
    {
      "cell_type": "code",
      "execution_count": 2,
      "metadata": {
        "colab": {
          "base_uri": "https://localhost:8080/"
        },
        "id": "VHBZ9B_3fym-",
        "outputId": "dd9cb471-e497-4d48-faf6-210ecb36163f"
      },
      "outputs": [
        {
          "name": "stdout",
          "output_type": "stream",
          "text": [
            "Requirement already satisfied: telethon in /usr/local/lib/python3.11/dist-packages (1.40.0)\n",
            "Collecting python-dotenv\n",
            "  Downloading python_dotenv-1.1.0-py3-none-any.whl.metadata (24 kB)\n",
            "Requirement already satisfied: pyaes in /usr/local/lib/python3.11/dist-packages (from telethon) (1.6.1)\n",
            "Requirement already satisfied: rsa in /usr/local/lib/python3.11/dist-packages (from telethon) (4.9.1)\n",
            "Requirement already satisfied: pyasn1>=0.1.3 in /usr/local/lib/python3.11/dist-packages (from rsa->telethon) (0.6.1)\n",
            "Downloading python_dotenv-1.1.0-py3-none-any.whl (20 kB)\n",
            "Installing collected packages: python-dotenv\n",
            "Successfully installed python-dotenv-1.1.0\n"
          ]
        }
      ],
      "source": [
        "!pip install telethon python-dotenv"
      ]
    },
    {
      "cell_type": "code",
      "execution_count": 17,
      "metadata": {
        "id": "W5_B6HdwVgui"
      },
      "outputs": [],
      "source": [
        "\n"
      ]
    },
    {
      "cell_type": "code",
      "execution_count": 22,
      "metadata": {
        "colab": {
          "base_uri": "https://localhost:8080/"
        },
        "id": "7X1-siIOSASd",
        "outputId": "7704a8bc-5672-4957-eeb1-331fec0a946b"
      },
      "outputs": [
        {
          "name": "stdout",
          "output_type": "stream",
          "text": [
            "Connecting to Telegram...\n",
            "Fetching channel entity for @Leyueqa...\n",
            "Fetching messages from @Leyueqa...\n",
            "Successfully fetched 1000 messages from @Leyueqa.\n",
            "Connecting to Telegram...\n",
            "Fetching channel entity for @sinayelj...\n",
            "Fetching messages from @sinayelj...\n",
            "Successfully fetched 1000 messages from @sinayelj.\n",
            "Connecting to Telegram...\n",
            "Fetching channel entity for @Shewabrand...\n",
            "Fetching messages from @Shewabrand...\n",
            "Successfully fetched 1000 messages from @Shewabrand.\n",
            "Connecting to Telegram...\n",
            "Fetching channel entity for @helloomarketethiopia...\n",
            "Fetching messages from @helloomarketethiopia...\n",
            "Successfully fetched 1000 messages from @helloomarketethiopia.\n",
            "Connecting to Telegram...\n",
            "Fetching channel entity for @modernshoppingcenter...\n",
            "Fetching messages from @modernshoppingcenter...\n",
            "Successfully fetched 1000 messages from @modernshoppingcenter.\n",
            "Data successfully saved to data/raw/telegram_messages.csv\n",
            "All messages saved to data/raw/telegram_messages.csv\n"
          ]
        }
      ],
      "source": [
        "from telegram_scraper import TelegramScraper\n",
        "import asyncio\n",
        "\n",
        "# Telegram API\n",
        "api_id = '27932004'\n",
        "api_hash = ''\n",
        "\n",
        "scraper = TelegramScraper(api_id, api_hash)\n",
        "# Function to fetch messages from all channels and save as CSV\n",
        "async def fetch_and_save_all(scraper, limit=1000):\n",
        "    all_data = []\n",
        "    for channel in scraper.get_channel_list():\n",
        "        data = await scraper.fetch_messages(channel, limit=limit)\n",
        "        all_data.extend(data)\n",
        "    scraper.save_data_csv(all_data, 'data/raw/telegram_messages.csv')\n",
        "    print('All messages saved to data/raw/telegram_messages.csv')\n",
        "# Run the scraping and saving\n",
        "await fetch_and_save_all(scraper, limit=1000)"
      ]
    },
    {
      "cell_type": "code",
      "execution_count": null,
      "metadata": {
        "id": "BM0tFP_xUZTr"
      },
      "outputs": [
        {
          "name": "stdout",
          "output_type": "stream",
          "text": [
            "  Channel Username                                            Message\n",
            "0          Leyueqa  ለላውንደሪ ማሽኖችና ፍሪጆች እግር የሚሆን ለቤቶና ለቢሮ እቃዎች እንዳይን...\n",
            "1          Leyueqa  በተጨማሪ ከ ብር በላይ የሆኑ ሁለት ዕቃዎች በአንድዲሊቨሪ ግዜ ሲያዙ ስጦ...\n",
            "4          Leyueqa  የተለያዩ ነገሮችን መፍጨት እና መደባለቅ የሚችል አንድ የእንቁላል መምቻ ...\n",
            "5          Leyueqa  መብራት ሲጠፋብዎ አዲስ የእጅ ባትሪ በቻርጀር የሚሰራ ለመያዝ ቀላል እና ...\n",
            "6          Leyueqa  የኤሌክትሪክ ማሞቂያ ያለው የምሳ እቃ ከዚህ በኋላ የያዝኩት ምግብ ይቀዘቅ...\n",
            "✅ Preprocessed Amharic messages (cleaned & deduplicated) saved to: ../data/processed/telegram_cleaned_messages.csv\n"
          ]
        }
      ],
      "source": [
        "import pandas as pd\n",
        "from preprocessing.amharic_text import *\n",
        "\n",
        "input_path = '../data/raw/telegram_raw_messages.csv'\n",
        "output_path = '../data/processed/telegram_cleaned_messages.csv'\n",
        "# Load data\n",
        "df = pd.read_csv(input_path)\n",
        "\n",
        "# Ensure column is string and apply preprocessing\n",
        "df['Message'] = df['Message'].astype(str).apply(preprocess_amharic_message)\n",
        "\n",
        "# Remove empty messages (after preprocessing) and drop duplicates\n",
        "df = df[df['Message'].str.strip().astype(bool)]  # keep non-empty\n",
        "df = df.drop_duplicates(subset=['Message'])      # drop duplicate messages\n",
        "\n",
        "# Show sample\n",
        "print(df[['Channel Username', 'Message']].head())\n",
        "\n",
        "# Save result\n",
        "df.to_csv(output_path, index=False, encoding='utf-8')\n",
        "print(f\"✅ Preprocessed Amharic messages (cleaned & deduplicated) saved to: {output_path}\")"
      ]
    },
    {
      "cell_type": "code",
      "execution_count": null,
      "metadata": {},
      "outputs": [],
      "source": []
    }
  ],
  "metadata": {
    "accelerator": "GPU",
    "colab": {
      "gpuType": "T4",
      "include_colab_link": true,
      "provenance": []
    },
    "kernelspec": {
      "display_name": "Python 3",
      "name": "python3"
    }
  },
  "nbformat": 4,
  "nbformat_minor": 0
}
