{
  "cells": [
    {
      "cell_type": "markdown",
      "metadata": {
        "id": "view-in-github",
        "colab_type": "text"
      },
      "source": [
        "<a href=\"https://colab.research.google.com/github/wondifraw/10Acadamy/blob/main/Scrapper.ipynb\" target=\"_parent\"><img src=\"https://colab.research.google.com/assets/colab-badge.svg\" alt=\"Open In Colab\"/></a>"
      ]
    },
    {
      "cell_type": "code",
      "source": [
        "!pip install telethon"
      ],
      "metadata": {
        "id": "PZX1gdx6Y3H5",
        "colab": {
          "base_uri": "https://localhost:8080/"
        },
        "outputId": "ee9b91fd-a3f6-444f-a61f-cb92d953ec3b"
      },
      "execution_count": 1,
      "outputs": [
        {
          "output_type": "stream",
          "name": "stdout",
          "text": [
            "Collecting telethon\n",
            "  Downloading Telethon-1.40.0-py3-none-any.whl.metadata (3.9 kB)\n",
            "Collecting pyaes (from telethon)\n",
            "  Downloading pyaes-1.6.1.tar.gz (28 kB)\n",
            "  Preparing metadata (setup.py) ... \u001b[?25l\u001b[?25hdone\n",
            "Requirement already satisfied: rsa in /usr/local/lib/python3.11/dist-packages (from telethon) (4.9.1)\n",
            "Requirement already satisfied: pyasn1>=0.1.3 in /usr/local/lib/python3.11/dist-packages (from rsa->telethon) (0.6.1)\n",
            "Downloading Telethon-1.40.0-py3-none-any.whl (722 kB)\n",
            "\u001b[2K   \u001b[90m━━━━━━━━━━━━━━━━━━━━━━━━━━━━━━━━━━━━━━━━\u001b[0m \u001b[32m722.0/722.0 kB\u001b[0m \u001b[31m19.1 MB/s\u001b[0m eta \u001b[36m0:00:00\u001b[0m\n",
            "\u001b[?25hBuilding wheels for collected packages: pyaes\n",
            "  Building wheel for pyaes (setup.py) ... \u001b[?25l\u001b[?25hdone\n",
            "  Created wheel for pyaes: filename=pyaes-1.6.1-py3-none-any.whl size=26347 sha256=732a3bbc7e797ca7c2600e0d396db40baf3051fe56c475352e7de1c7c66ce030\n",
            "  Stored in directory: /root/.cache/pip/wheels/4e/52/33/010d0843550bffb6a591b11629070ae140c0ad4f53e68a3bd3\n",
            "Successfully built pyaes\n",
            "Installing collected packages: pyaes, telethon\n",
            "Successfully installed pyaes-1.6.1 telethon-1.40.0\n"
          ]
        }
      ]
    },
    {
      "cell_type": "code",
      "source": [
        "!pip install telethon python-dotenv"
      ],
      "metadata": {
        "colab": {
          "base_uri": "https://localhost:8080/"
        },
        "id": "VHBZ9B_3fym-",
        "outputId": "dd9cb471-e497-4d48-faf6-210ecb36163f"
      },
      "execution_count": 2,
      "outputs": [
        {
          "output_type": "stream",
          "name": "stdout",
          "text": [
            "Requirement already satisfied: telethon in /usr/local/lib/python3.11/dist-packages (1.40.0)\n",
            "Collecting python-dotenv\n",
            "  Downloading python_dotenv-1.1.0-py3-none-any.whl.metadata (24 kB)\n",
            "Requirement already satisfied: pyaes in /usr/local/lib/python3.11/dist-packages (from telethon) (1.6.1)\n",
            "Requirement already satisfied: rsa in /usr/local/lib/python3.11/dist-packages (from telethon) (4.9.1)\n",
            "Requirement already satisfied: pyasn1>=0.1.3 in /usr/local/lib/python3.11/dist-packages (from rsa->telethon) (0.6.1)\n",
            "Downloading python_dotenv-1.1.0-py3-none-any.whl (20 kB)\n",
            "Installing collected packages: python-dotenv\n",
            "Successfully installed python-dotenv-1.1.0\n"
          ]
        }
      ]
    },
    {
      "cell_type": "code",
      "source": [
        "%%writefile telegram_scraper.py\n",
        "from telethon import TelegramClient\n",
        "from telethon.tl.types import MessageMediaPhoto, MessageMediaDocument\n",
        "from typing import List, Dict\n",
        "from telethon import TelegramClient\n",
        "from telethon.tl.types import MessageMediaPhoto, MessageMediaDocument\n",
        "import os\n",
        "import json\n",
        "from typing import List, Dict\n",
        "import pandas as pd\n",
        "\n",
        "class TelegramScraper:\n",
        "    \"\"\"\n",
        "    Scrapes messages, images, and documents from specified Telegram channels.\n",
        "    \"\"\"\n",
        "    def __init__(self, api_id: str, api_hash: str, session_name: str = 'anon'):\n",
        "        \"\"\"\n",
        "        Initializes the scraper with Telegram API credentials.\n",
        "\n",
        "        Args:\n",
        "            api_id (str): Your Telegram API ID.\n",
        "            api_hash (str): Your Telegram API hash.\n",
        "\n",
        "        \"\"\"\n",
        "        self.api_id = api_id\n",
        "        self.api_hash = api_hash\n",
        "        self.session_name = session_name\n",
        "        self.client = TelegramClient(session_name, api_id, api_hash)\n",
        "\n",
        "    def get_channel_list(self) -> List[str]:\n",
        "        \"\"\"\n",
        "        Returns a predefined list of Telegram channel usernames.\n",
        "\n",
        "        Returns:\n",
        "            List[str]: A list of channel usernames.\n",
        "        \"\"\"\n",
        "        return [\n",
        "            '@Leyueqa',\n",
        "            '@sinayelj',\n",
        "            '@Shewabrand',\n",
        "            '@helloomarketethiopia',\n",
        "            '@modernshoppingcenter',\n",
        "        ]\n",
        "\n",
        "    async def fetch_messages(self, channel: str, limit: int = 1000) -> List[Dict]:\n",
        "        \"\"\"\n",
        "        Fetches messages from a given Telegram channel.\n",
        "\n",
        "        Args:\n",
        "            channel (str): The username or link of the Telegram channel.\n",
        "            limit (int): The maximum number of messages to fetch.\n",
        "\n",
        "        Returns:\n",
        "            List[Dict]: A list of dictionaries, where each dictionary represents a message.\n",
        "        \"\"\"\n",
        "        messages = []\n",
        "        try:\n",
        "            print(f\"Connecting to Telegram...\")\n",
        "            async with self.client:\n",
        "                print(f\"Fetching channel entity for {channel}...\")\n",
        "                entity = await self.client.get_entity(channel)\n",
        "                channel_title = getattr(entity, 'title', None)\n",
        "                channel_username = getattr(entity, 'username', channel.strip('@'))\n",
        "                print(f\"Fetching messages from {channel}...\")\n",
        "                async for msg in self.client.iter_messages(channel, limit=limit):\n",
        "                    media_path = None\n",
        "                    if msg.media:\n",
        "                        media_dir = os.path.join('data', 'raw', channel.strip('@'), 'media')\n",
        "                        os.makedirs(media_dir, exist_ok=True)\n",
        "                        try:\n",
        "                            media_path = await msg.download_media(file=media_dir)\n",
        "                        except Exception as e:\n",
        "                            print(f\"Could not download media for message {msg.id}: {e}\")\n",
        "\n",
        "                    msg_dict = {\n",
        "                        'Channel Title': channel_title,\n",
        "                        'Channel Username': channel_username,\n",
        "                        'ID': msg.id,\n",
        "                        'Message': msg.text,\n",
        "                        'Date': str(msg.date),\n",
        "                        'Media Path': media_path\n",
        "                    }\n",
        "                    messages.append(msg_dict)\n",
        "            print(f\"Successfully fetched {len(messages)} messages from {channel}.\")\n",
        "        except Exception as e:\n",
        "            print(f\"[ERROR] Failed to fetch messages from {channel}: {e}\")\n",
        "        return messages\n",
        "\n",
        "    def save_data(self, data: List[Dict], out_path: str):\n",
        "        \"\"\"\n",
        "        Saves data to a JSON file.\n",
        "\n",
        "        Args:\n",
        "            data (List[Dict]): The data to save.\n",
        "            out_path (str): The path to the output JSON file.\n",
        "        \"\"\"\n",
        "        try:\n",
        "            os.makedirs(os.path.dirname(out_path), exist_ok=True)\n",
        "            with open(out_path, 'w', encoding='utf-8') as f:\n",
        "                json.dump(data, f, ensure_ascii=False, indent=2)\n",
        "            print(f\"Data successfully saved to {out_path}\")\n",
        "        except Exception as e:\n",
        "            print(f\"[ERROR] Failed to save data to {out_path}: {e}\")\n",
        "\n",
        "    def save_data_csv(self, data: List[Dict], out_path: str):\n",
        "        \"\"\"\n",
        "        Saves data to a CSV file.\n",
        "\n",
        "        Args:\n",
        "            data (List[Dict]): The data to save.\n",
        "            out_path (str): The path to the output CSV file.\n",
        "        \"\"\"\n",
        "        try:\n",
        "            os.makedirs(os.path.dirname(out_path), exist_ok=True)\n",
        "            df = pd.DataFrame(data)\n",
        "            df.to_csv(out_path, index=False, encoding='utf-8-sig')\n",
        "            print(f\"Data successfully saved to {out_path}\")\n",
        "        except Exception as e:\n",
        "            print(f\"[ERROR] Failed to save data to {out_path}: {e}\")"
      ],
      "metadata": {
        "colab": {
          "base_uri": "https://localhost:8080/"
        },
        "id": "GzLGHcVdW0S_",
        "outputId": "d13de9f3-b8d7-4b81-9019-7bc0f68055b8"
      },
      "execution_count": 19,
      "outputs": [
        {
          "output_type": "stream",
          "name": "stdout",
          "text": [
            "Writing telegram_scraper.py\n"
          ]
        }
      ]
    },
    {
      "cell_type": "code",
      "source": [
        "import sys\n",
        "sys.path.append('/content/src')"
      ],
      "metadata": {
        "id": "W5_B6HdwVgui"
      },
      "execution_count": 17,
      "outputs": []
    },
    {
      "cell_type": "code",
      "source": [
        "from telegram_scraper import TelegramScraper\n",
        "import asyncio\n",
        "\n",
        "# Telegram API\n",
        "api_id = '27932004'\n",
        "api_hash = '611c1eca9d988b82f4008dc33126c6fe'\n",
        "\n",
        "scraper = TelegramScraper(api_id, api_hash)\n",
        "# Function to fetch messages from all channels and save as CSV\n",
        "async def fetch_and_save_all(scraper, limit=1000):\n",
        "    all_data = []\n",
        "    for channel in scraper.get_channel_list():\n",
        "        data = await scraper.fetch_messages(channel, limit=limit)\n",
        "        all_data.extend(data)\n",
        "    scraper.save_data_csv(all_data, 'data/raw/telegram_messages.csv')\n",
        "    print('All messages saved to data/raw/telegram_messages.csv')\n",
        "# Run the scraping and saving\n",
        "await fetch_and_save_all(scraper, limit=1000)"
      ],
      "metadata": {
        "id": "7X1-siIOSASd",
        "colab": {
          "base_uri": "https://localhost:8080/"
        },
        "outputId": "7704a8bc-5672-4957-eeb1-331fec0a946b"
      },
      "execution_count": 22,
      "outputs": [
        {
          "output_type": "stream",
          "name": "stdout",
          "text": [
            "Connecting to Telegram...\n",
            "Fetching channel entity for @Leyueqa...\n",
            "Fetching messages from @Leyueqa...\n",
            "Successfully fetched 1000 messages from @Leyueqa.\n",
            "Connecting to Telegram...\n",
            "Fetching channel entity for @sinayelj...\n",
            "Fetching messages from @sinayelj...\n",
            "Successfully fetched 1000 messages from @sinayelj.\n",
            "Connecting to Telegram...\n",
            "Fetching channel entity for @Shewabrand...\n",
            "Fetching messages from @Shewabrand...\n",
            "Successfully fetched 1000 messages from @Shewabrand.\n",
            "Connecting to Telegram...\n",
            "Fetching channel entity for @helloomarketethiopia...\n",
            "Fetching messages from @helloomarketethiopia...\n",
            "Successfully fetched 1000 messages from @helloomarketethiopia.\n",
            "Connecting to Telegram...\n",
            "Fetching channel entity for @modernshoppingcenter...\n",
            "Fetching messages from @modernshoppingcenter...\n",
            "Successfully fetched 1000 messages from @modernshoppingcenter.\n",
            "Data successfully saved to data/raw/telegram_messages.csv\n",
            "All messages saved to data/raw/telegram_messages.csv\n"
          ]
        }
      ]
    },
    {
      "cell_type": "code",
      "source": [],
      "metadata": {
        "id": "BM0tFP_xUZTr"
      },
      "execution_count": null,
      "outputs": []
    }
  ],
  "metadata": {
    "colab": {
      "provenance": [],
      "gpuType": "T4",
      "include_colab_link": true
    },
    "kernelspec": {
      "display_name": "Python 3",
      "name": "python3"
    },
    "accelerator": "GPU"
  },
  "nbformat": 4,
  "nbformat_minor": 0
}