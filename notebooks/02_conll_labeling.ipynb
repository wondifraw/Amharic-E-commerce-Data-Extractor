{
 "cells": [
  {
   "cell_type": "markdown",
   "metadata": {},
   "source": [
    "# Task 2: CoNLL Format Labeling\n",
    "\n",
    "This notebook handles:\n",
    "- Loading preprocessed data\n",
    "- Auto-labeling with BIO tags\n",
    "- Creating CoNLL format dataset"
   ]
  },
  {
   "cell_type": "code",
   "execution_count": 1,
   "metadata": {},
   "outputs": [],
   "source": [
    "import sys\n",
    "sys.path.append('..')\n",
    "\n",
    "import pandas as pd\n",
    "from pathlib import Path\n",
    "from src.labeling.conll_labeler import CoNLLLabeler"
   ]
  },
  {
   "cell_type": "code",
   "execution_count": 2,
   "metadata": {},
   "outputs": [
    {
     "name": "stdout",
     "output_type": "stream",
     "text": [
      "Loaded 13443 messages for labeling\n"
     ]
    }
   ],
   "source": [
    "# Load processed data\n",
    "df = pd.read_csv(\"../data/processed/cleaned_messages.csv\")\n",
    "labeler = CoNLLLabeler()\n",
    "\n",
    "print(f\"Loaded {len(df)} messages for labeling\")"
   ]
  },
  {
   "cell_type": "markdown",
   "metadata": {},
   "source": [
    "## Sample Message Labeling"
   ]
  },
  {
   "cell_type": "code",
   "execution_count": 3,
   "metadata": {},
   "outputs": [
    {
     "name": "stderr",
     "output_type": "stream",
     "text": [
      "etnltk tokenization failed: cannot import name 'word_tokenize' from 'etnltk.tokenize' (c:\\Users\\W-HP\\AppData\\Local\\Programs\\Python\\Python313\\Lib\\site-packages\\etnltk\\tokenize\\__init__.py)\n",
      "etnltk tokenization failed: cannot import name 'word_tokenize' from 'etnltk.tokenize' (c:\\Users\\W-HP\\AppData\\Local\\Programs\\Python\\Python313\\Lib\\site-packages\\etnltk\\tokenize\\__init__.py)\n",
      "etnltk tokenization failed: cannot import name 'word_tokenize' from 'etnltk.tokenize' (c:\\Users\\W-HP\\AppData\\Local\\Programs\\Python\\Python313\\Lib\\site-packages\\etnltk\\tokenize\\__init__.py)\n"
     ]
    },
    {
     "name": "stdout",
     "output_type": "stream",
     "text": [
      "Text: ሻንጣ ዋጋ 500 ብር አዲስ አበባ ቦሌ\n",
      "Labels:\n",
      "  ሻንጣ -> B-Product\n",
      "  ዋጋ -> I-Product\n",
      "  500 -> B-PRICE\n",
      "  ብር -> I-PRICE\n",
      "  አዲስ -> B-LOC\n",
      "  አበባ -> I-LOC\n",
      "  ቦሌ -> B-LOC\n",
      "---\n",
      "Text: ስልክ በ 2000 ብር መርካቶ\n",
      "Labels:\n",
      "  ስልክ -> B-Product\n",
      "  በ -> O\n",
      "  2000 -> B-PRICE\n",
      "  ብር -> I-PRICE\n",
      "  መርካቶ -> B-LOC\n",
      "---\n",
      "Text: ጫማ ልብስ ፒያሳ ላይ\n",
      "Labels:\n",
      "  ጫማ -> B-Product\n",
      "  ልብስ -> I-Product\n",
      "  ፒያሳ -> I-Product\n",
      "  ላይ -> I-Product\n",
      "---\n"
     ]
    }
   ],
   "source": [
    "# Test labeling on sample messages\n",
    "sample_texts = [\n",
    "    \"ሻንጣ ዋጋ 500 ብር አዲስ አበባ ቦሌ\",\n",
    "    \"ስልክ በ 2000 ብር መርካቶ\",\n",
    "    \"ጫማ ልብስ ፒያሳ ላይ\"\n",
    "]\n",
    "\n",
    "for text in sample_texts:\n",
    "    labeled = labeler.auto_label_message(text)\n",
    "    print(f\"Text: {text}\")\n",
    "    print(\"Labels:\")\n",
    "    for token, label in labeled:\n",
    "        print(f\"  {token} -> {label}\")\n",
    "    print(\"---\")"
   ]
  },
  {
   "cell_type": "markdown",
   "metadata": {},
   "source": [
    "## Label Dataset Sample"
   ]
  },
  {
   "cell_type": "code",
   "execution_count": 4,
   "metadata": {},
   "outputs": [
    {
     "name": "stderr",
     "output_type": "stream",
     "text": [
      "etnltk tokenization failed: cannot import name 'word_tokenize' from 'etnltk.tokenize' (c:\\Users\\W-HP\\AppData\\Local\\Programs\\Python\\Python313\\Lib\\site-packages\\etnltk\\tokenize\\__init__.py)\n",
      "etnltk tokenization failed: cannot import name 'word_tokenize' from 'etnltk.tokenize' (c:\\Users\\W-HP\\AppData\\Local\\Programs\\Python\\Python313\\Lib\\site-packages\\etnltk\\tokenize\\__init__.py)\n",
      "etnltk tokenization failed: cannot import name 'word_tokenize' from 'etnltk.tokenize' (c:\\Users\\W-HP\\AppData\\Local\\Programs\\Python\\Python313\\Lib\\site-packages\\etnltk\\tokenize\\__init__.py)\n",
      "etnltk tokenization failed: cannot import name 'word_tokenize' from 'etnltk.tokenize' (c:\\Users\\W-HP\\AppData\\Local\\Programs\\Python\\Python313\\Lib\\site-packages\\etnltk\\tokenize\\__init__.py)\n",
      "etnltk tokenization failed: cannot import name 'word_tokenize' from 'etnltk.tokenize' (c:\\Users\\W-HP\\AppData\\Local\\Programs\\Python\\Python313\\Lib\\site-packages\\etnltk\\tokenize\\__init__.py)\n",
      "etnltk tokenization failed: cannot import name 'word_tokenize' from 'etnltk.tokenize' (c:\\Users\\W-HP\\AppData\\Local\\Programs\\Python\\Python313\\Lib\\site-packages\\etnltk\\tokenize\\__init__.py)\n",
      "etnltk tokenization failed: cannot import name 'word_tokenize' from 'etnltk.tokenize' (c:\\Users\\W-HP\\AppData\\Local\\Programs\\Python\\Python313\\Lib\\site-packages\\etnltk\\tokenize\\__init__.py)\n",
      "etnltk tokenization failed: cannot import name 'word_tokenize' from 'etnltk.tokenize' (c:\\Users\\W-HP\\AppData\\Local\\Programs\\Python\\Python313\\Lib\\site-packages\\etnltk\\tokenize\\__init__.py)\n",
      "etnltk tokenization failed: cannot import name 'word_tokenize' from 'etnltk.tokenize' (c:\\Users\\W-HP\\AppData\\Local\\Programs\\Python\\Python313\\Lib\\site-packages\\etnltk\\tokenize\\__init__.py)\n",
      "etnltk tokenization failed: cannot import name 'word_tokenize' from 'etnltk.tokenize' (c:\\Users\\W-HP\\AppData\\Local\\Programs\\Python\\Python313\\Lib\\site-packages\\etnltk\\tokenize\\__init__.py)\n",
      "etnltk tokenization failed: cannot import name 'word_tokenize' from 'etnltk.tokenize' (c:\\Users\\W-HP\\AppData\\Local\\Programs\\Python\\Python313\\Lib\\site-packages\\etnltk\\tokenize\\__init__.py)\n",
      "etnltk tokenization failed: cannot import name 'word_tokenize' from 'etnltk.tokenize' (c:\\Users\\W-HP\\AppData\\Local\\Programs\\Python\\Python313\\Lib\\site-packages\\etnltk\\tokenize\\__init__.py)\n",
      "etnltk tokenization failed: cannot import name 'word_tokenize' from 'etnltk.tokenize' (c:\\Users\\W-HP\\AppData\\Local\\Programs\\Python\\Python313\\Lib\\site-packages\\etnltk\\tokenize\\__init__.py)\n",
      "etnltk tokenization failed: cannot import name 'word_tokenize' from 'etnltk.tokenize' (c:\\Users\\W-HP\\AppData\\Local\\Programs\\Python\\Python313\\Lib\\site-packages\\etnltk\\tokenize\\__init__.py)\n",
      "etnltk tokenization failed: cannot import name 'word_tokenize' from 'etnltk.tokenize' (c:\\Users\\W-HP\\AppData\\Local\\Programs\\Python\\Python313\\Lib\\site-packages\\etnltk\\tokenize\\__init__.py)\n",
      "etnltk tokenization failed: cannot import name 'word_tokenize' from 'etnltk.tokenize' (c:\\Users\\W-HP\\AppData\\Local\\Programs\\Python\\Python313\\Lib\\site-packages\\etnltk\\tokenize\\__init__.py)\n",
      "etnltk tokenization failed: cannot import name 'word_tokenize' from 'etnltk.tokenize' (c:\\Users\\W-HP\\AppData\\Local\\Programs\\Python\\Python313\\Lib\\site-packages\\etnltk\\tokenize\\__init__.py)\n",
      "etnltk tokenization failed: cannot import name 'word_tokenize' from 'etnltk.tokenize' (c:\\Users\\W-HP\\AppData\\Local\\Programs\\Python\\Python313\\Lib\\site-packages\\etnltk\\tokenize\\__init__.py)\n",
      "etnltk tokenization failed: cannot import name 'word_tokenize' from 'etnltk.tokenize' (c:\\Users\\W-HP\\AppData\\Local\\Programs\\Python\\Python313\\Lib\\site-packages\\etnltk\\tokenize\\__init__.py)\n",
      "etnltk tokenization failed: cannot import name 'word_tokenize' from 'etnltk.tokenize' (c:\\Users\\W-HP\\AppData\\Local\\Programs\\Python\\Python313\\Lib\\site-packages\\etnltk\\tokenize\\__init__.py)\n",
      "etnltk tokenization failed: cannot import name 'word_tokenize' from 'etnltk.tokenize' (c:\\Users\\W-HP\\AppData\\Local\\Programs\\Python\\Python313\\Lib\\site-packages\\etnltk\\tokenize\\__init__.py)\n",
      "etnltk tokenization failed: cannot import name 'word_tokenize' from 'etnltk.tokenize' (c:\\Users\\W-HP\\AppData\\Local\\Programs\\Python\\Python313\\Lib\\site-packages\\etnltk\\tokenize\\__init__.py)\n",
      "etnltk tokenization failed: cannot import name 'word_tokenize' from 'etnltk.tokenize' (c:\\Users\\W-HP\\AppData\\Local\\Programs\\Python\\Python313\\Lib\\site-packages\\etnltk\\tokenize\\__init__.py)\n",
      "etnltk tokenization failed: cannot import name 'word_tokenize' from 'etnltk.tokenize' (c:\\Users\\W-HP\\AppData\\Local\\Programs\\Python\\Python313\\Lib\\site-packages\\etnltk\\tokenize\\__init__.py)\n",
      "etnltk tokenization failed: cannot import name 'word_tokenize' from 'etnltk.tokenize' (c:\\Users\\W-HP\\AppData\\Local\\Programs\\Python\\Python313\\Lib\\site-packages\\etnltk\\tokenize\\__init__.py)\n",
      "etnltk tokenization failed: cannot import name 'word_tokenize' from 'etnltk.tokenize' (c:\\Users\\W-HP\\AppData\\Local\\Programs\\Python\\Python313\\Lib\\site-packages\\etnltk\\tokenize\\__init__.py)\n",
      "etnltk tokenization failed: cannot import name 'word_tokenize' from 'etnltk.tokenize' (c:\\Users\\W-HP\\AppData\\Local\\Programs\\Python\\Python313\\Lib\\site-packages\\etnltk\\tokenize\\__init__.py)\n",
      "etnltk tokenization failed: cannot import name 'word_tokenize' from 'etnltk.tokenize' (c:\\Users\\W-HP\\AppData\\Local\\Programs\\Python\\Python313\\Lib\\site-packages\\etnltk\\tokenize\\__init__.py)\n",
      "etnltk tokenization failed: cannot import name 'word_tokenize' from 'etnltk.tokenize' (c:\\Users\\W-HP\\AppData\\Local\\Programs\\Python\\Python313\\Lib\\site-packages\\etnltk\\tokenize\\__init__.py)\n",
      "etnltk tokenization failed: cannot import name 'word_tokenize' from 'etnltk.tokenize' (c:\\Users\\W-HP\\AppData\\Local\\Programs\\Python\\Python313\\Lib\\site-packages\\etnltk\\tokenize\\__init__.py)\n",
      "etnltk tokenization failed: cannot import name 'word_tokenize' from 'etnltk.tokenize' (c:\\Users\\W-HP\\AppData\\Local\\Programs\\Python\\Python313\\Lib\\site-packages\\etnltk\\tokenize\\__init__.py)\n",
      "etnltk tokenization failed: cannot import name 'word_tokenize' from 'etnltk.tokenize' (c:\\Users\\W-HP\\AppData\\Local\\Programs\\Python\\Python313\\Lib\\site-packages\\etnltk\\tokenize\\__init__.py)\n",
      "etnltk tokenization failed: cannot import name 'word_tokenize' from 'etnltk.tokenize' (c:\\Users\\W-HP\\AppData\\Local\\Programs\\Python\\Python313\\Lib\\site-packages\\etnltk\\tokenize\\__init__.py)\n",
      "etnltk tokenization failed: cannot import name 'word_tokenize' from 'etnltk.tokenize' (c:\\Users\\W-HP\\AppData\\Local\\Programs\\Python\\Python313\\Lib\\site-packages\\etnltk\\tokenize\\__init__.py)\n",
      "etnltk tokenization failed: cannot import name 'word_tokenize' from 'etnltk.tokenize' (c:\\Users\\W-HP\\AppData\\Local\\Programs\\Python\\Python313\\Lib\\site-packages\\etnltk\\tokenize\\__init__.py)\n",
      "etnltk tokenization failed: cannot import name 'word_tokenize' from 'etnltk.tokenize' (c:\\Users\\W-HP\\AppData\\Local\\Programs\\Python\\Python313\\Lib\\site-packages\\etnltk\\tokenize\\__init__.py)\n",
      "etnltk tokenization failed: cannot import name 'word_tokenize' from 'etnltk.tokenize' (c:\\Users\\W-HP\\AppData\\Local\\Programs\\Python\\Python313\\Lib\\site-packages\\etnltk\\tokenize\\__init__.py)\n",
      "etnltk tokenization failed: cannot import name 'word_tokenize' from 'etnltk.tokenize' (c:\\Users\\W-HP\\AppData\\Local\\Programs\\Python\\Python313\\Lib\\site-packages\\etnltk\\tokenize\\__init__.py)\n",
      "etnltk tokenization failed: cannot import name 'word_tokenize' from 'etnltk.tokenize' (c:\\Users\\W-HP\\AppData\\Local\\Programs\\Python\\Python313\\Lib\\site-packages\\etnltk\\tokenize\\__init__.py)\n",
      "etnltk tokenization failed: cannot import name 'word_tokenize' from 'etnltk.tokenize' (c:\\Users\\W-HP\\AppData\\Local\\Programs\\Python\\Python313\\Lib\\site-packages\\etnltk\\tokenize\\__init__.py)\n",
      "etnltk tokenization failed: cannot import name 'word_tokenize' from 'etnltk.tokenize' (c:\\Users\\W-HP\\AppData\\Local\\Programs\\Python\\Python313\\Lib\\site-packages\\etnltk\\tokenize\\__init__.py)\n",
      "etnltk tokenization failed: cannot import name 'word_tokenize' from 'etnltk.tokenize' (c:\\Users\\W-HP\\AppData\\Local\\Programs\\Python\\Python313\\Lib\\site-packages\\etnltk\\tokenize\\__init__.py)\n",
      "etnltk tokenization failed: cannot import name 'word_tokenize' from 'etnltk.tokenize' (c:\\Users\\W-HP\\AppData\\Local\\Programs\\Python\\Python313\\Lib\\site-packages\\etnltk\\tokenize\\__init__.py)\n",
      "etnltk tokenization failed: cannot import name 'word_tokenize' from 'etnltk.tokenize' (c:\\Users\\W-HP\\AppData\\Local\\Programs\\Python\\Python313\\Lib\\site-packages\\etnltk\\tokenize\\__init__.py)\n",
      "etnltk tokenization failed: cannot import name 'word_tokenize' from 'etnltk.tokenize' (c:\\Users\\W-HP\\AppData\\Local\\Programs\\Python\\Python313\\Lib\\site-packages\\etnltk\\tokenize\\__init__.py)\n",
      "etnltk tokenization failed: cannot import name 'word_tokenize' from 'etnltk.tokenize' (c:\\Users\\W-HP\\AppData\\Local\\Programs\\Python\\Python313\\Lib\\site-packages\\etnltk\\tokenize\\__init__.py)\n",
      "etnltk tokenization failed: cannot import name 'word_tokenize' from 'etnltk.tokenize' (c:\\Users\\W-HP\\AppData\\Local\\Programs\\Python\\Python313\\Lib\\site-packages\\etnltk\\tokenize\\__init__.py)\n",
      "etnltk tokenization failed: cannot import name 'word_tokenize' from 'etnltk.tokenize' (c:\\Users\\W-HP\\AppData\\Local\\Programs\\Python\\Python313\\Lib\\site-packages\\etnltk\\tokenize\\__init__.py)\n",
      "etnltk tokenization failed: cannot import name 'word_tokenize' from 'etnltk.tokenize' (c:\\Users\\W-HP\\AppData\\Local\\Programs\\Python\\Python313\\Lib\\site-packages\\etnltk\\tokenize\\__init__.py)\n",
      "etnltk tokenization failed: cannot import name 'word_tokenize' from 'etnltk.tokenize' (c:\\Users\\W-HP\\AppData\\Local\\Programs\\Python\\Python313\\Lib\\site-packages\\etnltk\\tokenize\\__init__.py)\n"
     ]
    },
    {
     "name": "stdout",
     "output_type": "stream",
     "text": [
      "Generated CoNLL data length: 17223 characters\n",
      "\n",
      "First 500 characters:\n",
      "```First\tO\n",
      "class\tO\n",
      "short\tO\n",
      "500```\tO\n",
      "\n",
      "📌\tO\n",
      "High\tO\n",
      "pressure\tO\n",
      "water\tO\n",
      "Gun\tO\n",
      "nozzle\tO\n",
      "👍መኪና\tB-Product\n",
      "ለማጠብ\tI-Product\n",
      "👍ግቢ\tI-Product\n",
      "ለማፅዳት\tI-Product\n",
      "ተመራጭ\tI-Product\n",
      "👍የራሱ\tI-Product\n",
      "መለዋወጫ\tI-Product\n",
      "ያለው\tI-Product\n",
      "ዋጋ፦\tI-Product\n",
      "💰🏷\tI-Product\n",
      "800\tB-PRICE\n",
      "ብር\tI-PRICE\n",
      "♦️ውስን\tO\n",
      "ፍሬ\tO\n",
      "ነው\tO\n",
      "ያለው🔥🔥🔥\tO\n",
      "🏢\tO\n",
      "አድራሻ👉\tO\n",
      "📍ቁ.1️⃣♦️መገናኛ\tO\n",
      "መሰረት\tO\n",
      "ደፋር\tO\n",
      "ሞል\tO\n",
      "ሁለተኛ\tO\n",
      "ፎቅ\tO\n",
      "ቢሮ\tO\n",
      "ቁ\tO\n",
      "S05/S06\tO\n",
      "📍\tO\n",
      "ቁ.2️⃣♦️ፒያሳ\tB-LOC\n",
      "ጊዮርጊስ\tO\n",
      "አደባባይ\tO\n",
      "ራመት_ታቦር_ኦዳ_ህንፃ\tO\n",
      "1ኛ\tO\n",
      "ፎቅ\tO\n",
      "ሱቅ\tO\n",
      "ቁ\tO\n",
      "G1\tO\n",
      "-107\tO\n",
      "💧💧💧💧\tO\n",
      "📲\tO\n",
      "0902660722\tO\n",
      "📲\tO\n",
      "0928460606\tO\n",
      "🔖\tO\n",
      "💬\tO\n",
      "በTelegram\tO\n"
     ]
    }
   ],
   "source": [
    "# Label 50 messages in CoNLL format\n",
    "conll_data = labeler.label_dataset_sample(df, num_messages=50)\n",
    "\n",
    "print(f\"Generated CoNLL data length: {len(conll_data)} characters\")\n",
    "print(\"\\nFirst 500 characters:\")\n",
    "print(conll_data[:500])"
   ]
  },
  {
   "cell_type": "markdown",
   "metadata": {},
   "source": [
    "## Save CoNLL Data"
   ]
  },
  {
   "cell_type": "code",
   "execution_count": 5,
   "metadata": {},
   "outputs": [
    {
     "name": "stdout",
     "output_type": "stream",
     "text": [
      "CoNLL data saved to data/labeled/train_data.conll\n"
     ]
    }
   ],
   "source": [
    "# Save labeled data\n",
    "Path(\"../data/labeled\").mkdir(parents=True, exist_ok=True)\n",
    "labeler.save_conll_data(conll_data, \"../data/labeled/train_data.conll\")\n",
    "\n",
    "print(\"CoNLL data saved to data/labeled/train_data.conll\")"
   ]
  },
  {
   "cell_type": "markdown",
   "metadata": {},
   "source": [
    "## Analyze Labels"
   ]
  },
  {
   "cell_type": "code",
   "execution_count": 6,
   "metadata": {},
   "outputs": [
    {
     "name": "stdout",
     "output_type": "stream",
     "text": [
      "Label Distribution:\n",
      "O: 1887\n",
      "B-Product: 16\n",
      "I-Product: 88\n",
      "B-PRICE: 41\n",
      "I-PRICE: 20\n",
      "B-LOC: 17\n",
      "\n",
      "Total tokens labeled: 2069\n",
      "Entity tokens: 182\n"
     ]
    }
   ],
   "source": [
    "# Count label distribution\n",
    "lines = conll_data.strip().split('\\n')\n",
    "labels = []\n",
    "\n",
    "for line in lines:\n",
    "    if line.strip() and '\\t' in line:\n",
    "        token, label = line.split('\\t')\n",
    "        labels.append(label)\n",
    "\n",
    "from collections import Counter\n",
    "label_counts = Counter(labels)\n",
    "\n",
    "print(\"Label Distribution:\")\n",
    "for label, count in label_counts.items():\n",
    "    print(f\"{label}: {count}\")\n",
    "\n",
    "print(f\"\\nTotal tokens labeled: {len(labels)}\")\n",
    "print(f\"Entity tokens: {len(labels) - label_counts.get('O', 0)}\")"
   ]
  }
 ],
 "metadata": {
  "kernelspec": {
   "display_name": "Python 3",
   "language": "python",
   "name": "python3"
  },
  "language_info": {
   "codemirror_mode": {
    "name": "ipython",
    "version": 3
   },
   "file_extension": ".py",
   "mimetype": "text/x-python",
   "name": "python",
   "nbconvert_exporter": "python",
   "pygments_lexer": "ipython3",
   "version": "3.13.2"
  }
 },
 "nbformat": 4,
 "nbformat_minor": 4
}
