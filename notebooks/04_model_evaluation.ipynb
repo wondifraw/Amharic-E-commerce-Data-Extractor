{
 "cells": [
  {
   "cell_type": "markdown",
   "metadata": {},
   "source": [
    "# Task 4: Model Comparison & Selection\n",
    "\n",
    "This notebook handles:\n",
    "- Loading trained models\n",
    "- Performance evaluation\n",
    "- Model comparison and selection"
   ]
  },
  {
   "cell_type": "code",
   "execution_count": 1,
   "metadata": {},
   "outputs": [],
   "source": [
    "import sys\n",
    "sys.path.append('..')\n",
    "\n",
    "import pandas as pd\n",
    "from pathlib import Path\n",
    "from src.evaluation.model_evaluator import ModelEvaluator\n",
    "from src.labeling.conll_labeler import CoNLLLabeler\n",
    "from config.config import model_config"
   ]
  },
  {
   "cell_type": "code",
   "execution_count": 2,
   "metadata": {},
   "outputs": [
    {
     "name": "stdout",
     "output_type": "stream",
     "text": [
      "Test data: 50 examples\n"
     ]
    }
   ],
   "source": [
    "# Initialize evaluator and load test data\n",
    "evaluator = ModelEvaluator()\n",
    "labeler = CoNLLLabeler()\n",
    "\n",
    "with open(\"../data/labeled/train_data.conll\", 'r', encoding='utf-8') as f:\n",
    "    conll_data = f.read()\n",
    "\n",
    "test_data = labeler.parse_conll_data(conll_data)\n",
    "test_texts = [' '.join(ex['tokens']) for ex in test_data]\n",
    "\n",
    "print(f\"Test data: {len(test_data)} examples\")"
   ]
  },
  {
   "cell_type": "markdown",
   "metadata": {},
   "source": [
    "## Load Trained Models"
   ]
  },
  {
   "cell_type": "code",
   "execution_count": 3,
   "metadata": {},
   "outputs": [
    {
     "name": "stderr",
     "output_type": "stream",
     "text": [
      "Device set to use cpu\n"
     ]
    },
    {
     "name": "stdout",
     "output_type": "stream",
     "text": [
      "Loaded: xlm-roberta-base\n"
     ]
    },
    {
     "name": "stderr",
     "output_type": "stream",
     "text": [
      "Device set to use cpu\n"
     ]
    },
    {
     "name": "stdout",
     "output_type": "stream",
     "text": [
      "Loaded: distilbert-base-multilingual-cased\n"
     ]
    },
    {
     "name": "stderr",
     "output_type": "stream",
     "text": [
      "Device set to use cpu\n"
     ]
    },
    {
     "name": "stdout",
     "output_type": "stream",
     "text": [
      "Loaded: bert-base-multilingual-cased\n",
      "\n",
      "Loaded 3 models\n"
     ]
    }
   ],
   "source": [
    "# Load all trained models\n",
    "for model_name in model_config.model_names:\n",
    "    model_path = f\"../models/checkpoints/{model_name.replace('/', '_')}\"\n",
    "    if Path(model_path).exists():\n",
    "        evaluator.load_model(model_path, model_name)\n",
    "        print(f\"Loaded: {model_name}\")\n",
    "    else:\n",
    "        print(f\"Model not found: {model_path}\")\n",
    "\n",
    "print(f\"\\nLoaded {len(evaluator.models)} models\")"
   ]
  },
  {
   "cell_type": "markdown",
   "metadata": {},
   "source": [
    "## Evaluate Individual Models"
   ]
  },
  {
   "cell_type": "code",
   "execution_count": 4,
   "metadata": {},
   "outputs": [
    {
     "name": "stdout",
     "output_type": "stream",
     "text": [
      "\n",
      "Testing xlm-roberta-base:\n",
      "  Avg inference time: 2.0885s\n",
      "  F1 Score: 0.722\n",
      "  Precision: 0.658\n",
      "  Recall: 0.801\n",
      "\n",
      "Testing distilbert-base-multilingual-cased:\n",
      "  Avg inference time: 0.8433s\n",
      "  F1 Score: 0.324\n",
      "  Precision: 0.721\n",
      "  Recall: 0.232\n",
      "\n",
      "Testing bert-base-multilingual-cased:\n",
      "  Avg inference time: 0.2347s\n",
      "  F1 Score: 0.299\n",
      "  Precision: 0.777\n",
      "  Recall: 0.185\n"
     ]
    }
   ],
   "source": [
    "# Test individual model performance\n",
    "for model_name in evaluator.models.keys():\n",
    "    print(f\"\\nTesting {model_name}:\")\n",
    "    \n",
    "    # Speed test\n",
    "    speed = evaluator.evaluate_model_speed(model_name, test_texts[:5])\n",
    "    print(f\"  Avg inference time: {speed:.4f}s\")\n",
    "    \n",
    "    # Accuracy test on small sample\n",
    "    accuracy = evaluator.evaluate_model_accuracy(model_name, test_data[:10])\n",
    "    print(f\"  F1 Score: {accuracy.get('f1', 0):.3f}\")\n",
    "    print(f\"  Precision: {accuracy.get('precision', 0):.3f}\")\n",
    "    print(f\"  Recall: {accuracy.get('recall', 0):.3f}\")"
   ]
  },
  {
   "cell_type": "markdown",
   "metadata": {},
   "source": [
    "## Model Comparison"
   ]
  },
  {
   "cell_type": "code",
   "execution_count": 5,
   "metadata": {},
   "outputs": [
    {
     "name": "stdout",
     "output_type": "stream",
     "text": [
      "Model Comparison Results:\n",
      "                                model  precision    recall  f1_score  \\\n",
      "0                    xlm-roberta-base   0.830032  0.894864  0.861230   \n",
      "1  distilbert-base-multilingual-cased   0.823805  0.270349  0.393668   \n",
      "2        bert-base-multilingual-cased   0.833411  0.233043  0.362195   \n",
      "\n",
      "   accuracy  avg_inference_time  speed_score  overall_score  \n",
      "0  0.894864            0.230579     4.318188       0.726089  \n",
      "1  0.270349            0.086334    11.450280       0.538572  \n",
      "2  0.233043            0.195197     5.096921       0.348331  \n",
      "\n",
      "Best performing model: xlm-roberta-base\n",
      "Overall score: 0.726\n"
     ]
    }
   ],
   "source": [
    "# Compare all models\n",
    "results_df = evaluator.compare_models(test_data, test_texts)\n",
    "\n",
    "print(\"Model Comparison Results:\")\n",
    "print(results_df)\n",
    "\n",
    "if not results_df.empty:\n",
    "    best_model = results_df.iloc[0]['model']\n",
    "    print(f\"\\nBest performing model: {best_model}\")\n",
    "    print(f\"Overall score: {results_df.iloc[0]['overall_score']:.3f}\")"
   ]
  },
  {
   "cell_type": "markdown",
   "metadata": {},
   "source": [
    "## Save Results"
   ]
  },
  {
   "cell_type": "code",
   "execution_count": 6,
   "metadata": {},
   "outputs": [
    {
     "name": "stdout",
     "output_type": "stream",
     "text": [
      "Results saved to models/comparison_results.csv\n",
      "\n",
      "Model evaluation completed!\n"
     ]
    }
   ],
   "source": [
    "# Save comparison results\n",
    "evaluator.save_comparison_results(results_df, \"../models/comparison_results.csv\")\n",
    "\n",
    "print(\"Results saved to models/comparison_results.csv\")\n",
    "print(\"\\nModel evaluation completed!\")"
   ]
  },
  {
   "cell_type": "markdown",
   "metadata": {},
   "source": [
    "## Visualization"
   ]
  },
  {
   "cell_type": "code",
   "execution_count": 7,
   "metadata": {},
   "outputs": [
    {
     "data": {
      "image/png": "[encoded data removed]",
      "text/plain": [
       "<Figure size 1200x500 with 2 Axes>"
      ]
     },
     "metadata": {},
     "output_type": "display_data"
    }
   ],
   "source": [
    "import matplotlib.pyplot as plt\n",
    "\n",
    "if not results_df.empty:\n",
    "    # Plot comparison\n",
    "    fig, (ax1, ax2) = plt.subplots(1, 2, figsize=(12, 5))\n",
    "    \n",
    "    # F1 scores\n",
    "    ax1.bar(results_df['model'], results_df['f1_score'])\n",
    "    ax1.set_title('F1 Scores')\n",
    "    ax1.set_ylabel('F1 Score')\n",
    "    ax1.tick_params(axis='x', rotation=45)\n",
    "    \n",
    "    # Speed comparison\n",
    "    ax2.bar(results_df['model'], results_df['avg_inference_time'])\n",
    "    ax2.set_title('Inference Speed')\n",
    "    ax2.set_ylabel('Time (seconds)')\n",
    "    ax2.tick_params(axis='x', rotation=45)\n",
    "    \n",
    "    plt.tight_layout()\n",
    "    plt.show()"
   ]
  },
  {
   "cell_type": "code",
   "execution_count": null,
   "metadata": {},
   "outputs": [],
   "source": []
  }
 ],
 "metadata": {
  "kernelspec": {
   "display_name": "Python 3",
   "language": "python",
   "name": "python3"
  },
  "language_info": {
   "codemirror_mode": {
    "name": "ipython",
    "version": 3
   },
   "file_extension": ".py",
   "mimetype": "text/x-python",
   "name": "python",
   "nbconvert_exporter": "python",
   "pygments_lexer": "ipython3",
   "version": "3.13.2"
  }
 },
 "nbformat": 4,
 "nbformat_minor": 4
}
