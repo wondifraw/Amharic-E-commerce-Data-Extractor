{
 "cells": [
  {
   "cell_type": "code",
   "execution_count": 1,
   "metadata": {},
   "outputs": [],
   "source": [
    "import pandas as pd\n",
    "import numpy as np\n",
    "import re\n",
    "from datetime import datetime, timedelta\n",
    "import json\n",
    "from typing import Dict, List, Tuple, Optional\n",
    "import matplotlib.pyplot as plt\n",
    "import seaborn as sns\n",
    "from pathlib import Path\n"
   ]
  },
  {
   "cell_type": "code",
   "execution_count": 2,
   "metadata": {},
   "outputs": [],
   "source": [
    "import sys\n",
    "import os\n",
    "\n",
    "# Add the scripts directory to the Python path\n",
    "scripts_dir = os.path.join(os.path.dirname(os.getcwd()), 'scripts')\n",
    "sys.path.append(scripts_dir)\n",
    "\n",
    "# Now you can import modules from the scripts directory\n",
    "from vendor_scorecard import VendorScorecard\n",
    "from Plotting import comparing_times\n"
   ]
  },
  {
   "cell_type": "code",
   "execution_count": 3,
   "metadata": {},
   "outputs": [
    {
     "name": "stdout",
     "output_type": "stream",
     "text": [
      "Loading Telegram data...\n",
      "Loading NER data...\n",
      "Loaded 1108 Telegram messages\n",
      "Loaded 50 NER entities\n",
      "Calculating vendor metrics...\n",
      "Processing vendor: Leyueqa\n",
      "Processing vendor: Shewabrand\n",
      "Processing vendor: helloomarketethiopia\n",
      "Processing vendor: modernshoppingcenter\n",
      "Processing vendor: sinayelj\n",
      "\n",
      "================================================================================\n",
      "VENDOR SCORECARD FOR MICRO-LENDING\n",
      "================================================================================\n",
      "              Vendor  Posts/Week  Avg. Price (ETB)  Lending Score  Total Posts  Product Diversity\n",
      "modernshoppingcenter       14.83                 0          80.00          269                 50\n",
      "             Leyueqa       13.79                 0          67.90          327                 50\n",
      "            sinayelj        3.39                 0          60.15           78                 50\n",
      "helloomarketethiopia        5.15                 0          50.55          372                 50\n",
      "          Shewabrand        0.36                 0          39.56           62                 50\n",
      "================================================================================\n",
      "\n",
      "RECOMMENDATIONS:\n",
      "• Average lending score across all vendors: 59.6/100\n",
      "• High-performing vendors (score ≥70): 1\n",
      "• Low-activity vendors (<2 posts/week): 1\n",
      "• Recommended lending candidates: modernshoppingcenter\n",
      "Results saved to data/vendor_scorecard/\n",
      "\n",
      "Vendor Scorecard analysis completed successfully!\n"
     ]
    }
   ],
   "source": [
    "\"\"\"Main function to run the Vendor Scorecard analysis\"\"\"\n",
    "# Initialize the scorecard system\n",
    "scorecard = VendorScorecard(\n",
    "    cleaned_data_path=\"../data/processed/telegram_cleaned_messages.csv\",\n",
    "    conll_data_path=\"../data/processed/conll_output.conll\"\n",
    ")\n",
    "\n",
    "# Load and process data\n",
    "scorecard.load_data()\n",
    "\n",
    "# Calculate metrics\n",
    "scorecard.calculate_vendor_metrics()\n",
    "\n",
    "# Generate and display results\n",
    "scorecard.print_scorecard()\n",
    "\n",
    "# Save results\n",
    "scorecard.save_results()\n",
    "\n",
    "print(\"\\nVendor Scorecard analysis completed successfully!\")"
   ]
  },
  {
   "cell_type": "code",
   "execution_count": null,
   "metadata": {},
   "outputs": [],
   "source": []
  }
 ],
 "metadata": {
  "kernelspec": {
   "display_name": "Python 3",
   "language": "python",
   "name": "python3"
  },
  "language_info": {
   "codemirror_mode": {
    "name": "ipython",
    "version": 3
   },
   "file_extension": ".py",
   "mimetype": "text/x-python",
   "name": "python",
   "nbconvert_exporter": "python",
   "pygments_lexer": "ipython3",
   "version": "3.13.2"
  }
 },
 "nbformat": 4,
 "nbformat_minor": 2
}
