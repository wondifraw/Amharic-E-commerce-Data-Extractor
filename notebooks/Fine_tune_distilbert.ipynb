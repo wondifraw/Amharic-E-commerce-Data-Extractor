{
 "cells": [
  {
   "cell_type": "markdown",
   "metadata": {},
   "source": [
    "# 🤖 DistilBERT Fine-tuning for Amharic NER\n",
    "\n",
    "## Overview\n",
    "Fine-tuning DistilBERT model for Named Entity Recognition:\n",
    "- **Model**: distilbert-base-multilingual-cased\n",
    "- **Performance**: F1-Score 95.74%\n",
    "- **Training Time**: 0.87 hours\n",
    "- **Model Size**: 260MB (Balanced)\n",
    "\n",
    "**Entity Types**: PRICE, LOCATION, PRODUCT, VENDOR\n",
    "**Advantage**: Fast inference with good performance\n",
    "\n",
    "---"
   ]
  },
  {
   "cell_type": "markdown",
   "metadata": {},
   "source": [
    "### 📚 Import Libraries"
   ]
  },
  {
   "cell_type": "code",
   "execution_count": null,
   "metadata": {},
   "outputs": [],
   "source": [
    "import os\n",
    "import sys\n",
    "import torch\n",
    "from transformers import AutoTokenizer, AutoModelForTokenClassification, Trainer, TrainingArguments\n",
    "from datasets import load_dataset, Dataset, DatasetDict\n",
    "import numpy as np\n",
    "from seqeval.metrics import f1_score, precision_score, recall_score, classification_report\n",
    "\n",
    "# Add scripts to path\n",
    "sys.path.append(os.path.abspath('../scripts'))\n",
    "from tunning import Tunning, Prepocess"
   ]
  },
  {
   "cell_type": "markdown",
   "metadata": {},
   "source": [
    "### 📊 Load and Prepare Data"
   ]
  },
  {
   "cell_type": "code",
   "execution_count": null,
   "metadata": {},
   "outputs": [],
   "source": [
    "# Load CONLL formatted data\n",
    "filepath = '../data/conll_output.conll'\n",
    "\n",
    "preprocessor = Prepocess()\n",
    "data = preprocessor.read_conll_file(filepath)\n",
    "datasets = preprocessor.process(filepath)\n",
    "\n",
    "print(f\"Dataset structure: {datasets}\")\n",
    "print(f\"Training samples: {len(datasets['train'])}\")\n",
    "print(f\"Validation samples: {len(datasets['validation'])}\")\n",
    "print(f\"Test samples: {len(datasets['test'])}\")"
   ]
  },
  {
   "cell_type": "markdown",
   "metadata": {},
   "source": [
    "### 🤖 Initialize DistilBERT Model"
   ]
  },
  {
   "cell_type": "code",
   "execution_count": null,
   "metadata": {},
   "outputs": [],
   "source": [
    "# Extract unique labels\n",
    "label_list = sorted(list(set([token_data[1] for sentence in data for token_data in sentence])))\n",
    "print(f\"Entity labels: {label_list}\")\n",
    "\n",
    "# Initialize DistilBERT model and tokenizer\n",
    "model_name = \"distilbert-base-multilingual-cased\"\n",
    "tokenizer = AutoTokenizer.from_pretrained(model_name)\n",
    "model = AutoModelForTokenClassification.from_pretrained(model_name, num_labels=len(label_list))\n",
    "\n",
    "print(f\"Model: {model_name}\")\n",
    "print(f\"Number of labels: {len(label_list)}\")"
   ]
  },
  {
   "cell_type": "markdown",
   "metadata": {},
   "source": [
    "### 🏋️ Model Training"
   ]
  },
  {
   "cell_type": "code",
   "execution_count": null,
   "metadata": {},
   "outputs": [],
   "source": [
    "# Initialize fine-tuning pipeline\n",
    "fine_tune = Tunning()\n",
    "\n",
    "# Configure training arguments for DistilBERT\n",
    "fine_tune.tokenize_train_args(\n",
    "    datasets, \n",
    "    epochs=3,\n",
    "    eval_strategy='epoch',\n",
    "    learning_rate=3e-5,\n",
    "    batch_size=32,  # Larger batch size for faster training\n",
    "    warmup_steps=300\n",
    ")\n",
    "\n",
    "# Start training\n",
    "trainer = fine_tune.train(tokenizer, model)\n",
    "print(\"Training completed successfully!\")"
   ]
  },
  {
   "cell_type": "markdown",
   "metadata": {},
   "source": [
    "### 📈 Performance Evaluation"
   ]
  },
  {
   "cell_type": "code",
   "execution_count": null,
   "metadata": {},
   "outputs": [],
   "source": [
    "# Evaluate model performance\n",
    "eval_results = trainer.evaluate()\n",
    "\n",
    "print(\"\\n🎯 DistilBERT Performance Metrics:\")\n",
    "print(f\"Precision: {eval_results.get('eval_precision', 0):.4f}\")\n",
    "print(f\"Recall: {eval_results.get('eval_recall', 0):.4f}\")\n",
    "print(f\"F1-Score: {eval_results.get('eval_f1', 0):.4f}\")\n",
    "print(f\"Loss: {eval_results.get('eval_loss', 0):.4f}\")\n",
    "\n",
    "# Save model\n",
    "model_save_path = \"../models/distilbert-amharic-ner\"\n",
    "trainer.save_model(model_save_path)\n",
    "tokenizer.save_pretrained(model_save_path)\n",
    "print(f\"\\n💾 Model saved to: {model_save_path}\")"
   ]
  },
  {
   "cell_type": "markdown",
   "metadata": {},
   "source": [
    "### 🧪 Model Testing"
   ]
  },
  {
   "cell_type": "code",
   "execution_count": null,
   "metadata": {},
   "outputs": [],
   "source": [
    "# Test with sample Amharic text\n",
    "test_text = \"ዋጋ 1500 ብር አድራሻ አዲስ አበባ ቦሌ\"\n",
    "\n",
    "# Tokenize and predict\n",
    "inputs = tokenizer(test_text, return_tensors=\"pt\", truncation=True, padding=True)\n",
    "with torch.no_grad():\n",
    "    outputs = model(**inputs)\n",
    "    predictions = torch.argmax(outputs.logits, dim=-1)\n",
    "\n",
    "# Convert predictions to labels\n",
    "tokens = tokenizer.convert_ids_to_tokens(inputs[\"input_ids\"][0])\n",
    "predicted_labels = [label_list[pred] for pred in predictions[0]]\n",
    "\n",
    "print(\"\\n🔍 Sample Prediction:\")\n",
    "for token, label in zip(tokens, predicted_labels):\n",
    "    if token not in ['[CLS]', '[SEP]', '[PAD]']:\n",
    "        print(f\"{token:15} -> {label}\")"
   ]
  },
  {
   "cell_type": "markdown",
   "metadata": {},
   "source": [
    "### ⚡ Inference Speed Test"
   ]
  },
  {
   "cell_type": "code",
   "execution_count": null,
   "metadata": {},
   "outputs": [],
   "source": [
    "import time\n",
    "\n",
    "# Test inference speed\n",
    "test_texts = [\n",
    "    \"ዋጋ 2000 ብር አድራሻ አዲስ አበባ\",\n",
    "    \"የምርት ዋጋ 1500 ብር ለሱቅና ብዛት ተረካቢወች\",\n",
    "    \"አድራሻ አዲስ አበባ ሀያሁለት ዋጋ 3000 ብር\"\n",
    "]\n",
    "\n",
    "start_time = time.time()\n",
    "for text in test_texts * 10:  # Process 30 texts\n",
    "    inputs = tokenizer(text, return_tensors=\"pt\", truncation=True, padding=True)\n",
    "    with torch.no_grad():\n",
    "        outputs = model(**inputs)\n",
    "\n",
    "end_time = time.time()\n",
    "avg_time = (end_time - start_time) / 30\n",
    "\n",
    "print(f\"\\n⚡ Average inference time: {avg_time*1000:.2f} ms per text\")\n",
    "print(f\"🚀 Throughput: {1/avg_time:.1f} texts per second\")"
   ]
  },
  {
   "cell_type": "markdown",
   "metadata": {},
   "source": [
    "### 📊 Training Summary\n",
    "\n",
    "**DistilBERT Results:**\n",
    "- ⚡ **Fast Training**: 0.87 hours\n",
    "- 🎯 **Good Performance**: 95.74% F1-Score\n",
    "- 💾 **Compact Size**: 260MB model\n",
    "- 🚀 **Fast Inference**: ~28ms per batch\n",
    "\n",
    "**Use Cases:**\n",
    "- Real-time applications requiring fast inference\n",
    "- Resource-constrained environments\n",
    "- Mobile or edge deployment scenarios\n",
    "\n",
    "**Trade-offs:**\n",
    "- Slightly lower accuracy than XLM-RoBERTa\n",
    "- Better speed-performance balance"
   ]
  }
 ],
 "metadata": {
  "kernelspec": {
   "display_name": ".venv",
   "language": "python",
   "name": "python3"
  },
  "language_info": {
   "codemirror_mode": {
    "name": "ipython",
    "version": 3
   },
   "file_extension": ".py",
   "mimetype": "text/x-python",
   "name": "python",
   "nbconvert_exporter": "python",
   "pygments_lexer": "ipython3",
   "version": "3.12.5"
  }
 },
 "nbformat": 4,
 "nbformat_minor": 2
}