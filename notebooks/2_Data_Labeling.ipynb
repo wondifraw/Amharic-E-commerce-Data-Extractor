{
 "cells": [
  {
   "cell_type": "code",
   "execution_count": 4,
   "metadata": {},
   "outputs": [],
   "source": [
    "import sys\n",
    "import os\n",
    "\n",
    "# Add the directory of your script to the Python path\n",
    "sys.path.append(os.path.abspath(\"../src/labeling/\"))  \n",
    "\n"
   ]
  },
  {
   "cell_type": "code",
   "execution_count": 3,
   "metadata": {},
   "outputs": [],
   "source": [
    "# -------------------------------\n",
    "# Configuration\n",
    "# -------------------------------\n",
    "INPUT_PATH = \"../data/processed/telegram_cleaned_messages.csv\"\n",
    "OUTPUT_PATH = \"../data/processed/labeled_data.conll\""
   ]
  },
  {
   "cell_type": "code",
   "execution_count": 5,
   "metadata": {},
   "outputs": [
    {
     "name": "stdout",
     "output_type": "stream",
     "text": [
      "✅ Labeled 50 messages and saved to ../data/processed/labeled_data.conll\n"
     ]
    }
   ],
   "source": [
    "from conll_formatter import *\n",
    "\n",
    "# -------------------------------\n",
    "# Load & Process Messages\n",
    "# -------------------------------\n",
    "df = pd.read_csv(INPUT_PATH)\n",
    "messages = df['Message'].dropna().astype(str)\n",
    "\n",
    "labeled_dataset = []\n",
    "for i, msg in enumerate(messages[:50]):  # Only label 50 messages for demo\n",
    "    labeled_sentence = label_message_conll(msg)\n",
    "    labeled_dataset.append(labeled_sentence)\n",
    "\n",
    "save_conll(labeled_dataset, OUTPUT_PATH)\n",
    "\n",
    "print(f\"✅ Labeled {len(labeled_dataset)} messages and saved to {OUTPUT_PATH}\")"
   ]
  },
  {
   "cell_type": "code",
   "execution_count": null,
   "metadata": {},
   "outputs": [],
   "source": []
  }
 ],
 "metadata": {
  "kernelspec": {
   "display_name": "Python 3",
   "language": "python",
   "name": "python3"
  },
  "language_info": {
   "codemirror_mode": {
    "name": "ipython",
    "version": 3
   },
   "file_extension": ".py",
   "mimetype": "text/x-python",
   "name": "python",
   "nbconvert_exporter": "python",
   "pygments_lexer": "ipython3",
   "version": "3.13.2"
  }
 },
 "nbformat": 4,
 "nbformat_minor": 2
}
