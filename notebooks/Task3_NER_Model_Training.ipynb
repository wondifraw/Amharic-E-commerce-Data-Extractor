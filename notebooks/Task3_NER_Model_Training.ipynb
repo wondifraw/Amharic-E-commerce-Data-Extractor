{
 "cells": [
  {
   "cell_type": "markdown",
   "metadata": {},
   "source": [
    "# Task 3: NER Model Fine-tuning\n",
    "Training multilingual NER models for Ethiopian e-commerce entity extraction"
   ]
  },
  {
   "cell_type": "code",
   "execution_count": null,
   "metadata": {},
   "outputs": [],
   "source": [
    "# Setup and imports\n",
    "import sys\n",
    "sys.path.append('../src')\n",
    "%reload_ext autoreload\n",
    "%autoreload 2\n",
    "\n",
    "import torch\n",
    "from ner.model_trainer import NERModelTrainer\n",
    "import os\n",
    "os.environ['CUDA_VISIBLE_DEVICES'] = '0'  # Use GPU if available"
   ]
  },
  {
   "cell_type": "code",
   "execution_count": null,
   "metadata": {},
   "outputs": [],
   "source": [
    "# Initialize NER trainer\n",
    "trainer = NERModelTrainer()\n",
    "print(\"NER trainer initialized\")\n",
    "print(f\"Entity labels: {list(trainer.label2id.keys())}\")"
   ]
  },
  {
   "cell_type": "code",
   "execution_count": null,
   "metadata": {},
   "outputs": [],
   "source": [
    "# Load CoNLL dataset from Task 2\n",
    "conll_path = \"../data/labeled/ethiopian_ner_dataset.txt\"\n",
    "sentences, labels = trainer.load_conll_data(conll_path)\n",
    "print(f\"Loaded {len(sentences)} sentences for training\")"
   ]
  },
  {
   "cell_type": "code",
   "execution_count": null,
   "metadata": {},
   "outputs": [],
   "source": [
    "# Split data for training and evaluation (80/20)\n",
    "split_idx = int(0.8 * len(sentences))\n",
    "train_sentences = sentences[:split_idx]\n",
    "train_labels = labels[:split_idx]\n",
    "eval_sentences = sentences[split_idx:]\n",
    "eval_labels = labels[split_idx:]\n",
    "\n",
    "print(f\"Training set: {len(train_sentences)} sentences\")\n",
    "print(f\"Evaluation set: {len(eval_sentences)} sentences\")"
   ]
  },
  {
   "cell_type": "code",
   "execution_count": null,
   "metadata": {},
   "outputs": [],
   "source": [
    "# Initialize model (DistilBERT for faster training)\n",
    "model_name = \"distilbert-base-multilingual-cased\"\n",
    "trainer.initialize_model(model_name)\n",
    "print(f\"Initialized model: {model_name}\")\n",
    "print(f\"Model parameters: {sum(p.numel() for p in trainer.model.parameters()):,}\")"
   ]
  },
  {
   "cell_type": "code",
   "execution_count": null,
   "metadata": {},
   "outputs": [],
   "source": [
    "# Prepare datasets\n",
    "train_dataset = trainer.prepare_dataset(train_sentences, train_labels)\n",
    "eval_dataset = trainer.prepare_dataset(eval_sentences, eval_labels)\n",
    "print(f\"Training dataset size: {len(train_dataset)}\")\n",
    "print(f\"Evaluation dataset size: {len(eval_dataset)}\")"
   ]
  },
  {
   "cell_type": "code",
   "execution_count": null,
   "metadata": {},
   "outputs": [],
   "source": [
    "# Train the model\n",
    "output_dir = \"../models/checkpoints/distilbert-ethiopian-ner\"\n",
    "model_path = trainer.train_model(train_dataset, eval_dataset, output_dir)\n",
    "print(f\"Model training completed!\")\n",
    "print(f\"Model saved to: {model_path}\")"
   ]
  },
  {
   "cell_type": "code",
   "execution_count": null,
   "metadata": {},
   "outputs": [],
   "source": [
    "# Test the trained model\n",
    "from transformers import pipeline\n",
    "\n",
    "# Load the trained model\n",
    "ner_pipeline = pipeline(\n",
    "    \"ner\",\n",
    "    model=model_path,\n",
    "    tokenizer=model_path,\n",
    "    aggregation_strategy=\"simple\"\n",
    ")\n",
    "\n",
    "# Test with sample text\n",
    "test_text = \"ሰላም! የሕፃናት ጠርሙስ ዋጋ 150 ብር ነው። ቦሌ አካባቢ ነው።\"\n",
    "predictions = ner_pipeline(test_text)\n",
    "\n",
    "print(f\"Test text: {test_text}\")\n",
    "print(\"Predictions:\")\n",
    "for pred in predictions:\n",
    "    print(f\"  {pred['word']} -> {pred['entity_group']} (confidence: {pred['score']:.3f})\")"
   ]
  }
 ],
 "metadata": {
  "kernelspec": {
   "display_name": "Python 3",
   "language": "python",
   "name": "python3"
  },
  "language_info": {
   "codemirror_mode": {
    "name": "ipython",
    "version": 3
   },
   "file_extension": ".py",
   "mimetype": "text/x-python",
   "name": "python",
   "nbconvert_exporter": "python",
   "pygments_lexer": "ipython3",
   "version": "3.8.0"
  }
 },
 "nbformat": 4,
 "nbformat_minor": 4
}