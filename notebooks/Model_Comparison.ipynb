{
 "cells": [
  {
   "cell_type": "markdown",
   "metadata": {},
   "source": [
    "## Amharic Named Entity Recognition (NER) system"
   ]
  },
  {
   "cell_type": "markdown",
   "metadata": {},
   "source": [
    "### Performance of model analysis"
   ]
  },
  {
   "cell_type": "markdown",
   "metadata": {},
   "source": [
    "##### Loading model performance metrics"
   ]
  },
  {
   "cell_type": "code",
   "execution_count": 39,
   "metadata": {},
   "outputs": [],
   "source": [
    "import os\n",
    "import sys\n",
    "\n",
    "sys.path.append(os.path.abspath('../scripts'))\n",
    "from Plotting import comparing_times"
   ]
  },
  {
   "cell_type": "code",
   "execution_count": 11,
   "metadata": {},
   "outputs": [],
   "source": [
    "import json \n",
    "import pandas as pd\n",
    "import matplotlib.pyplot as plt\n",
    "\n",
    "\n",
    "with open('../Model_Performance/Bert-tiny.json', 'r') as json_file:\n",
    "    Bert_tiny = json.load(json_file)\n",
    "\n",
    "with open('../Model_Performance/DistilBert.json', 'r') as json_file:\n",
    "    DistilBert = json.load(json_file)\n",
    "\n",
    "\n",
    "with open('../Model_Performance/XLM-Roberta.json', 'r') as json_file:\n",
    "    Xlm_Roberta = json.load(json_file)"
   ]
  },
  {
   "cell_type": "code",
   "execution_count": 14,
   "metadata": {},
   "outputs": [],
   "source": [
    "bert_performance = pd.DataFrame(Bert_tiny['Epoch_Results'])\n",
    "DistilBert_performance = pd.DataFrame(DistilBert['Epoch_Results'])\n",
    "Xlm_Roberta_performance = pd.DataFrame(Xlm_Roberta['Epoch_Results'])"
   ]
  },
  {
   "cell_type": "markdown",
   "metadata": {},
   "source": [
    "## Performance analysis"
   ]
  },
  {
   "cell_type": "markdown",
   "metadata": {},
   "source": [
    "#### Performace metics for Bert-tiny-amharic"
   ]
  },
  {
   "cell_type": "code",
   "execution_count": 15,
   "metadata": {},
   "outputs": [
    {
     "data": {
      "text/html": [
       "<div>\n",
       "<style scoped>\n",
       "    .dataframe tbody tr th:only-of-type {\n",
       "        vertical-align: middle;\n",
       "    }\n",
       "\n",
       "    .dataframe tbody tr th {\n",
       "        vertical-align: top;\n",
       "    }\n",
       "\n",
       "    .dataframe thead th {\n",
       "        text-align: right;\n",
       "    }\n",
       "</style>\n",
       "<table border=\"1\" class=\"dataframe\">\n",
       "  <thead>\n",
       "    <tr style=\"text-align: right;\">\n",
       "      <th></th>\n",
       "      <th>epoch</th>\n",
       "      <th>training_loss</th>\n",
       "      <th>validation_loss</th>\n",
       "      <th>precision</th>\n",
       "      <th>recall</th>\n",
       "      <th>f1</th>\n",
       "    </tr>\n",
       "  </thead>\n",
       "  <tbody>\n",
       "    <tr>\n",
       "      <th>0</th>\n",
       "      <td>1</td>\n",
       "      <td>0.1350</td>\n",
       "      <td>0.092690</td>\n",
       "      <td>0.897238</td>\n",
       "      <td>0.902729</td>\n",
       "      <td>0.899975</td>\n",
       "    </tr>\n",
       "    <tr>\n",
       "      <th>1</th>\n",
       "      <td>2</td>\n",
       "      <td>0.0925</td>\n",
       "      <td>0.078733</td>\n",
       "      <td>0.924227</td>\n",
       "      <td>0.920889</td>\n",
       "      <td>0.922555</td>\n",
       "    </tr>\n",
       "    <tr>\n",
       "      <th>2</th>\n",
       "      <td>3</td>\n",
       "      <td>0.0753</td>\n",
       "      <td>0.072548</td>\n",
       "      <td>0.927990</td>\n",
       "      <td>0.932878</td>\n",
       "      <td>0.930428</td>\n",
       "    </tr>\n",
       "    <tr>\n",
       "      <th>3</th>\n",
       "      <td>4</td>\n",
       "      <td>0.0656</td>\n",
       "      <td>0.065159</td>\n",
       "      <td>0.930907</td>\n",
       "      <td>0.938146</td>\n",
       "      <td>0.934513</td>\n",
       "    </tr>\n",
       "    <tr>\n",
       "      <th>4</th>\n",
       "      <td>5</td>\n",
       "      <td>0.0600</td>\n",
       "      <td>0.064301</td>\n",
       "      <td>0.929114</td>\n",
       "      <td>0.939601</td>\n",
       "      <td>0.934328</td>\n",
       "    </tr>\n",
       "  </tbody>\n",
       "</table>\n",
       "</div>"
      ],
      "text/plain": [
       "   epoch  training_loss  validation_loss  precision    recall        f1\n",
       "0      1         0.1350         0.092690   0.897238  0.902729  0.899975\n",
       "1      2         0.0925         0.078733   0.924227  0.920889  0.922555\n",
       "2      3         0.0753         0.072548   0.927990  0.932878  0.930428\n",
       "3      4         0.0656         0.065159   0.930907  0.938146  0.934513\n",
       "4      5         0.0600         0.064301   0.929114  0.939601  0.934328"
      ]
     },
     "execution_count": 15,
     "metadata": {},
     "output_type": "execute_result"
    }
   ],
   "source": [
    "bert_performance"
   ]
  },
  {
   "cell_type": "markdown",
   "metadata": {},
   "source": [
    "#### Performace metrics for AfroXlmr / Distilbert"
   ]
  },
  {
   "cell_type": "code",
   "execution_count": 17,
   "metadata": {},
   "outputs": [
    {
     "data": {
      "text/html": [
       "<div>\n",
       "<style scoped>\n",
       "    .dataframe tbody tr th:only-of-type {\n",
       "        vertical-align: middle;\n",
       "    }\n",
       "\n",
       "    .dataframe tbody tr th {\n",
       "        vertical-align: top;\n",
       "    }\n",
       "\n",
       "    .dataframe thead th {\n",
       "        text-align: right;\n",
       "    }\n",
       "</style>\n",
       "<table border=\"1\" class=\"dataframe\">\n",
       "  <thead>\n",
       "    <tr style=\"text-align: right;\">\n",
       "      <th></th>\n",
       "      <th>epoch</th>\n",
       "      <th>training_loss</th>\n",
       "      <th>validation_loss</th>\n",
       "      <th>precision</th>\n",
       "      <th>recall</th>\n",
       "      <th>f1</th>\n",
       "    </tr>\n",
       "  </thead>\n",
       "  <tbody>\n",
       "    <tr>\n",
       "      <th>0</th>\n",
       "      <td>1</td>\n",
       "      <td>0.5145</td>\n",
       "      <td>0.459560</td>\n",
       "      <td>0.747649</td>\n",
       "      <td>0.532397</td>\n",
       "      <td>0.621925</td>\n",
       "    </tr>\n",
       "    <tr>\n",
       "      <th>1</th>\n",
       "      <td>2</td>\n",
       "      <td>0.4211</td>\n",
       "      <td>0.427247</td>\n",
       "      <td>0.802680</td>\n",
       "      <td>0.576603</td>\n",
       "      <td>0.671113</td>\n",
       "    </tr>\n",
       "    <tr>\n",
       "      <th>2</th>\n",
       "      <td>3</td>\n",
       "      <td>0.3876</td>\n",
       "      <td>0.408725</td>\n",
       "      <td>0.816852</td>\n",
       "      <td>0.601211</td>\n",
       "      <td>0.692635</td>\n",
       "    </tr>\n",
       "  </tbody>\n",
       "</table>\n",
       "</div>"
      ],
      "text/plain": [
       "   epoch  training_loss  validation_loss  precision    recall        f1\n",
       "0      1         0.5145         0.459560   0.747649  0.532397  0.621925\n",
       "1      2         0.4211         0.427247   0.802680  0.576603  0.671113\n",
       "2      3         0.3876         0.408725   0.816852  0.601211  0.692635"
      ]
     },
     "execution_count": 17,
     "metadata": {},
     "output_type": "execute_result"
    }
   ],
   "source": [
    "DistilBert_performance"
   ]
  },
  {
   "cell_type": "markdown",
   "metadata": {},
   "source": [
    "#### Performace metrics for XLM-Roberta"
   ]
  },
  {
   "cell_type": "code",
   "execution_count": 18,
   "metadata": {},
   "outputs": [
    {
     "data": {
      "text/html": [
       "<div>\n",
       "<style scoped>\n",
       "    .dataframe tbody tr th:only-of-type {\n",
       "        vertical-align: middle;\n",
       "    }\n",
       "\n",
       "    .dataframe tbody tr th {\n",
       "        vertical-align: top;\n",
       "    }\n",
       "\n",
       "    .dataframe thead th {\n",
       "        text-align: right;\n",
       "    }\n",
       "</style>\n",
       "<table border=\"1\" class=\"dataframe\">\n",
       "  <thead>\n",
       "    <tr style=\"text-align: right;\">\n",
       "      <th></th>\n",
       "      <th>epoch</th>\n",
       "      <th>training_loss</th>\n",
       "      <th>validation_loss</th>\n",
       "      <th>precision</th>\n",
       "      <th>recall</th>\n",
       "      <th>f1</th>\n",
       "    </tr>\n",
       "  </thead>\n",
       "  <tbody>\n",
       "    <tr>\n",
       "      <th>0</th>\n",
       "      <td>1</td>\n",
       "      <td>0.1312</td>\n",
       "      <td>0.073673</td>\n",
       "      <td>0.938125</td>\n",
       "      <td>0.946606</td>\n",
       "      <td>0.942346</td>\n",
       "    </tr>\n",
       "    <tr>\n",
       "      <th>1</th>\n",
       "      <td>2</td>\n",
       "      <td>0.0591</td>\n",
       "      <td>0.050339</td>\n",
       "      <td>0.954839</td>\n",
       "      <td>0.959942</td>\n",
       "      <td>0.957384</td>\n",
       "    </tr>\n",
       "    <tr>\n",
       "      <th>2</th>\n",
       "      <td>3</td>\n",
       "      <td>0.0334</td>\n",
       "      <td>0.042276</td>\n",
       "      <td>0.969026</td>\n",
       "      <td>0.970381</td>\n",
       "      <td>0.969703</td>\n",
       "    </tr>\n",
       "  </tbody>\n",
       "</table>\n",
       "</div>"
      ],
      "text/plain": [
       "   epoch  training_loss  validation_loss  precision    recall        f1\n",
       "0      1         0.1312         0.073673   0.938125  0.946606  0.942346\n",
       "1      2         0.0591         0.050339   0.954839  0.959942  0.957384\n",
       "2      3         0.0334         0.042276   0.969026  0.970381  0.969703"
      ]
     },
     "execution_count": 18,
     "metadata": {},
     "output_type": "execute_result"
    }
   ],
   "source": [
    "Xlm_Roberta_performance"
   ]
  },
  {
   "cell_type": "markdown",
   "metadata": {},
   "source": [
    "**Observation**\n",
    "- If the selection of model is purely based on the performance without considerting other variables then `XLM-Roberta` outperforms othter models."
   ]
  },
  {
   "cell_type": "markdown",
   "metadata": {},
   "source": [
    "## Time analysis"
   ]
  },
  {
   "cell_type": "code",
   "execution_count": 25,
   "metadata": {},
   "outputs": [],
   "source": [
    "# Training time per minute\n",
    "Bert_training_time = Bert_tiny['TrainOutput']['metrics']['train_runtime'] / 60\n",
    "DistilBert_training_time = DistilBert['TrainOutput']['metrics']['train_runtime'] / 60\n",
    "Xlm_Roberta_training_time = Xlm_Roberta['TrainOutput']['metrics']['train_runtime'] / 60"
   ]
  },
  {
   "cell_type": "code",
   "execution_count": 40,
   "metadata": {},
   "outputs": [
    {
     "data": {
      "image/png": "[encoded data removed]",
      "text/plain": [
       "<Figure size 800x600 with 1 Axes>"
      ]
     },
     "metadata": {},
     "output_type": "display_data"
    }
   ],
   "source": [
    "times = [Bert_training_time, DistilBert_training_time, Xlm_Roberta_training_time]\n",
    "models = ['DistilBert', 'XLM-Roberta','Bert']\n",
    "\n",
    "comparing_times(models, times)"
   ]
  },
  {
   "cell_type": "markdown",
   "metadata": {},
   "source": [
    "**Observation**\n",
    "- From the analysis we can see that `XLM-Roberta` takes less time to train. And the results of XLM-Roberta is fantastic compared to the other modles.\n",
    "- Overall `XLM-Roberta` is the best-performing model for production based on evaluation metrics."
   ]
  }
 ],
 "metadata": {
  "kernelspec": {
   "display_name": ".venv",
   "language": "python",
   "name": "python3"
  },
  "language_info": {
   "codemirror_mode": {
    "name": "ipython",
    "version": 3
   },
   "file_extension": ".py",
   "mimetype": "text/x-python",
   "name": "python",
   "nbconvert_exporter": "python",
   "pygments_lexer": "ipython3",
   "version": "3.12.5"
  }
 },
 "nbformat": 4,
 "nbformat_minor": 2
}
