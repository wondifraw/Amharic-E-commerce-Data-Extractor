{
 "cells": [
  {
   "cell_type": "markdown",
   "metadata": {},
   "source": [
    "# ⚡ Performance Benchmarking\n",
    "\n",
    "## Overview\n",
    "Comprehensive performance benchmarking for all system components:\n",
    "- Model inference speed\n",
    "- Data processing throughput\n",
    "- Memory usage analysis\n",
    "- Scalability testing\n",
    "\n",
    "---"
   ]
  },
  {
   "cell_type": "code",
   "execution_count": null,
   "metadata": {},
   "outputs": [],
   "source": [
    "import time\n",
    "import psutil\n",
    "import torch\n",
    "import pandas as pd\n",
    "import matplotlib.pyplot as plt\n",
    "from transformers import AutoTokenizer, AutoModelForTokenClassification\n",
    "\n",
    "# Benchmark results storage\n",
    "benchmark_results = {}"
   ]
  },
  {
   "cell_type": "markdown",
   "metadata": {},
   "source": [
    "### 🚀 Model Inference Benchmarking"
   ]
  },
  {
   "cell_type": "code",
   "execution_count": null,
   "metadata": {},
   "outputs": [],
   "source": [
    "def benchmark_model_inference(model_name, test_texts, iterations=100):\n",
    "    tokenizer = AutoTokenizer.from_pretrained(model_name)\n",
    "    \n",
    "    times = []\n",
    "    memory_usage = []\n",
    "    \n",
    "    for i in range(iterations):\n",
    "        start_time = time.time()\n",
    "        start_memory = psutil.Process().memory_info().rss / 1024 / 1024  # MB\n",
    "        \n",
    "        for text in test_texts:\n",
    "            inputs = tokenizer(text, return_tensors=\"pt\", truncation=True, padding=True)\n",
    "        \n",
    "        end_time = time.time()\n",
    "        end_memory = psutil.Process().memory_info().rss / 1024 / 1024  # MB\n",
    "        \n",
    "        times.append(end_time - start_time)\n",
    "        memory_usage.append(end_memory - start_memory)\n",
    "    \n",
    "    return {\n",
    "        'avg_time': sum(times) / len(times),\n",
    "        'min_time': min(times),\n",
    "        'max_time': max(times),\n",
    "        'avg_memory': sum(memory_usage) / len(memory_usage)\n",
    "    }\n",
    "\n",
    "# Test data\n",
    "test_texts = [\n",
    "    \"ዋጋ 2500 ብር አድራሻ አዲስ አበባ\",\n",
    "    \"የምርት ዋጋ 1500 ብር ለሱቅና ብዛት ተረካቢወች\",\n",
    "    \"አድራሻ አዲስ አበባ ሀያሁለት ዋጋ 3000 ብር\"\n",
    "]\n",
    "\n",
    "# Benchmark different models\n",
    "models = {\n",
    "    'XLM-RoBERTa': 'xlm-roberta-base',\n",
    "    'DistilBERT': 'distilbert-base-multilingual-cased',\n",
    "    'BERT-tiny': 'rasyosef/bert-tiny-amharic'\n",
    "}\n",
    "\n",
    "for name, model_name in models.items():\n",
    "    print(f\"Benchmarking {name}...\")\n",
    "    benchmark_results[name] = benchmark_model_inference(model_name, test_texts)\n",
    "    print(f\"Average time: {benchmark_results[name]['avg_time']:.4f}s\")"
   ]
  },
  {
   "cell_type": "markdown",
   "metadata": {},
   "source": [
    "### 📊 Data Processing Throughput"
   ]
  },
  {
   "cell_type": "code",
   "execution_count": null,
   "metadata": {},
   "outputs": [],
   "source": [
    "def benchmark_data_processing(data_size=1000):\n",
    "    # Simulate data processing\n",
    "    import sys\n",
    "    import os\n",
    "    sys.path.append(os.path.abspath('../src'))\n",
    "    \n",
    "    # Generate test data\n",
    "    test_data = [f\"ዋጋ {i*100} ብር አድራሻ አዲስ አበባ\" for i in range(data_size)]\n",
    "    \n",
    "    start_time = time.time()\n",
    "    \n",
    "    # Process data (simplified)\n",
    "    processed = []\n",
    "    for text in test_data:\n",
    "        # Simulate text cleaning and tokenization\n",
    "        cleaned = text.replace('ዋጋ', 'Price')\n",
    "        tokens = cleaned.split()\n",
    "        processed.append(tokens)\n",
    "    \n",
    "    end_time = time.time()\n",
    "    \n",
    "    throughput = data_size / (end_time - start_time)\n",
    "    return throughput\n",
    "\n",
    "# Test different data sizes\n",
    "data_sizes = [100, 500, 1000, 5000]\n",
    "throughput_results = {}\n",
    "\n",
    "for size in data_sizes:\n",
    "    throughput = benchmark_data_processing(size)\n",
    "    throughput_results[size] = throughput\n",
    "    print(f\"Data size {size}: {throughput:.2f} messages/second\")"
   ]
  },
  {
   "cell_type": "markdown",
   "metadata": {},
   "source": [
    "### 📈 Visualization"
   ]
  },
  {
   "cell_type": "code",
   "execution_count": null,
   "metadata": {},
   "outputs": [],
   "source": [
    "# Create performance comparison charts\n",
    "fig, ((ax1, ax2), (ax3, ax4)) = plt.subplots(2, 2, figsize=(15, 10))\n",
    "fig.suptitle('⚡ Performance Benchmarking Results', fontsize=16, fontweight='bold')\n",
    "\n",
    "# Model inference times\n",
    "models = list(benchmark_results.keys())\n",
    "avg_times = [benchmark_results[model]['avg_time'] for model in models]\n",
    "\n",
    "ax1.bar(models, avg_times, color=['#1f77b4', '#ff7f0e', '#2ca02c'])\n",
    "ax1.set_title('Model Inference Time')\n",
    "ax1.set_ylabel('Time (seconds)')\n",
    "ax1.tick_params(axis='x', rotation=45)\n",
    "\n",
    "# Memory usage\n",
    "memory_usage = [benchmark_results[model]['avg_memory'] for model in models]\n",
    "ax2.bar(models, memory_usage, color=['#1f77b4', '#ff7f0e', '#2ca02c'])\n",
    "ax2.set_title('Memory Usage')\n",
    "ax2.set_ylabel('Memory (MB)')\n",
    "ax2.tick_params(axis='x', rotation=45)\n",
    "\n",
    "# Data processing throughput\n",
    "sizes = list(throughput_results.keys())\n",
    "throughputs = list(throughput_results.values())\n",
    "\n",
    "ax3.plot(sizes, throughputs, marker='o', linewidth=2, markersize=6)\n",
    "ax3.set_title('Data Processing Throughput')\n",
    "ax3.set_xlabel('Data Size')\n",
    "ax3.set_ylabel('Messages/Second')\n",
    "ax3.grid(True, alpha=0.3)\n",
    "\n",
    "# Performance vs Accuracy trade-off\n",
    "f1_scores = [96.97, 95.74, 94.23]  # From model comparison\n",
    "ax4.scatter(avg_times, f1_scores, s=200, alpha=0.7, c=['#1f77b4', '#ff7f0e', '#2ca02c'])\n",
    "ax4.set_title('Performance vs Accuracy Trade-off')\n",
    "ax4.set_xlabel('Inference Time (seconds)')\n",
    "ax4.set_ylabel('F1-Score (%)')\n",
    "\n",
    "for i, model in enumerate(models):\n",
    "    ax4.annotate(model, (avg_times[i], f1_scores[i]), xytext=(5, 5), textcoords='offset points')\n",
    "\n",
    "plt.tight_layout()\n",
    "plt.show()"
   ]
  },
  {
   "cell_type": "markdown",
   "metadata": {},
   "source": [
    "### 📋 Performance Summary"
   ]
  },
  {
   "cell_type": "code",
   "execution_count": null,
   "metadata": {},
   "outputs": [],
   "source": [
    "# Generate performance report\n",
    "performance_df = pd.DataFrame({\n",
    "    'Model': models,\n",
    "    'Avg_Inference_Time_ms': [t*1000 for t in avg_times],\n",
    "    'Memory_Usage_MB': memory_usage,\n",
    "    'F1_Score': f1_scores\n",
    "})\n",
    "\n",
    "print(\"🏆 Performance Benchmarking Summary:\")\n",
    "print(\"=\" * 50)\n",
    "print(performance_df.to_string(index=False))\n",
    "\n",
    "# Save results\n",
    "performance_df.to_csv('../reports/performance_benchmark.csv', index=False)\n",
    "print(\"\\n💾 Results saved to: ../reports/performance_benchmark.csv\")\n",
    "\n",
    "# Recommendations\n",
    "print(\"\\n💡 Recommendations:\")\n",
    "print(\"• XLM-RoBERTa: Best accuracy, use for production\")\n",
    "print(\"• DistilBERT: Balanced performance, good for real-time\")\n",
    "print(\"• BERT-tiny: Fastest inference, suitable for mobile/edge\")"
   ]
  }
 ],
 "metadata": {
  "kernelspec": {
   "display_name": ".venv",
   "language": "python",
   "name": "python3"
  },
  "language_info": {
   "codemirror_mode": {
    "name": "ipython",
    "version": 3
   },
   "file_extension": ".py",
   "mimetype": "text/x-python",
   "name": "python",
   "nbconvert_exporter": "python",
   "pygments_lexer": "ipython3",
   "version": "3.12.5"
  }
 },
 "nbformat": 4,
 "nbformat_minor": 2
}