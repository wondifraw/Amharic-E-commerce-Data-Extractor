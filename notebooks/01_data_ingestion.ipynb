{
 "cells": [
  {
   "cell_type": "markdown",
   "metadata": {},
   "source": [
    "# Task 1: Data Ingestion and Preprocessing\n",
    "\n",
    "This notebook handles:\n",
    "- Telegram channel scraping\n",
    "- Text preprocessing with etnltk\n",
    "- Data cleaning and structuring"
   ]
  },
  {
   "cell_type": "code",
   "execution_count": 1,
   "metadata": {},
   "outputs": [],
   "source": [
    "import sys\n",
    "sys.path.append('..')\n",
    "\n",
    "import pandas as pd\n",
    "import asyncio\n",
    "from pathlib import Path\n",
    "\n",
    "from src.data_ingestion.telegram_scraper import TelegramScraper\n",
    "from src.preprocessing.text_processor import AmharicTextProcessor"
   ]
  },
  {
   "cell_type": "markdown",
   "metadata": {},
   "source": [
    "## Step 1: Initialize Components"
   ]
  },
  {
   "cell_type": "code",
   "execution_count": 2,
   "metadata": {},
   "outputs": [
    {
     "name": "stdout",
     "output_type": "stream",
     "text": [
      "Components initialized successfully\n"
     ]
    }
   ],
   "source": [
    "scraper = TelegramScraper()\n",
    "processor = AmharicTextProcessor()\n",
    "\n",
    "print(\"Components initialized successfully\")"
   ]
  },
  {
   "cell_type": "markdown",
   "metadata": {},
   "source": [
    "## Step 2: Scrape Telegram Channels"
   ]
  },
  {
   "cell_type": "code",
   "execution_count": 3,
   "metadata": {},
   "outputs": [
    {
     "name": "stderr",
     "output_type": "stream",
     "text": [
      "INFO:telethon.network.mtprotosender:Connecting to 149.154.167.51:443/TcpFull...\n",
      "INFO:telethon.network.mtprotosender:Connection to 149.154.167.51:443/TcpFull complete!\n",
      "INFO:telethon.client.users:Phone migrated to 4\n",
      "INFO:telethon.client.telegrambaseclient:Reconnecting to new data center 4\n",
      "INFO:telethon.network.mtprotosender:Disconnecting from 149.154.167.51:443/TcpFull...\n",
      "INFO:telethon.network.mtprotosender:Disconnection from 149.154.167.51:443/TcpFull complete!\n",
      "INFO:telethon.network.mtprotosender:Connecting to 149.154.167.91:443/TcpFull...\n",
      "INFO:telethon.network.mtprotosender:Connection to 149.154.167.91:443/TcpFull complete!\n",
      "INFO:src.data_ingestion.telegram_scraper:Telegram client initialized successfully\n"
     ]
    },
    {
     "name": "stdout",
     "output_type": "stream",
     "text": [
      "Signed in successfully as Wende M.; remember to not break the ToS or you will risk an account ban!\n"
     ]
    },
    {
     "name": "stderr",
     "output_type": "stream",
     "text": [
      "INFO:src.data_ingestion.telegram_scraper:Scraped 5000 messages from @ethio_market_place\n",
      "ERROR:src.data_ingestion.telegram_scraper:Error scraping @addis_shopping: Nobody is using this username, or the username is unacceptable. If the latter, it must match r\"[a-zA-Z][\\w\\d]{3,30}[a-zA-Z\\d]\" (caused by ResolveUsernameRequest)\n",
      "INFO:src.data_ingestion.telegram_scraper:Scraped 0 messages from @ethio_electronics\n",
      "INFO:src.data_ingestion.telegram_scraper:Scraped 19 messages from @bole_market\n",
      "ERROR:src.data_ingestion.telegram_scraper:Error scraping @merkato_online: Nobody is using this username, or the username is unacceptable. If the latter, it must match r\"[a-zA-Z][\\w\\d]{3,30}[a-zA-Z\\d]\" (caused by ResolveUsernameRequest)\n",
      "WARNING:telethon.network.connection.connection:Server closed the connection: [WinError 10054] An existing connection was forcibly closed by the remote host\n",
      "INFO:telethon.network.mtprotosender:Connection closed while receiving data: [WinError 10054] An existing connection was forcibly closed by the remote host\n",
      "INFO:telethon.network.mtprotosender:Closing current connection to begin reconnect...\n",
      "INFO:telethon.network.connection.connection:<class 'ConnectionResetError'> during disconnect: [WinError 10054] An existing connection was forcibly closed by the remote host\n",
      "INFO:telethon.network.mtprotosender:Connecting to 149.154.167.91:443/TcpFull...\n",
      "INFO:telethon.network.mtprotosender:Connection to 149.154.167.91:443/TcpFull complete!\n",
      "INFO:src.data_ingestion.telegram_scraper:Scraped 3389 messages from @zemenExpress\n",
      "INFO:src.data_ingestion.telegram_scraper:Scraped 2776 messages from @shewabrand\n",
      "INFO:src.data_ingestion.telegram_scraper:Scraped 1649 messages from @lobelia4cosmetics\n",
      "INFO:src.data_ingestion.telegram_scraper:Scraped 771 messages from @yetenaweg\n",
      "INFO:telethon.network.mtprotosender:Disconnecting from 149.154.167.91:443/TcpFull...\n",
      "INFO:telethon.network.mtprotosender:Disconnection from 149.154.167.91:443/TcpFull complete!\n",
      "INFO:src.data_ingestion.telegram_scraper:Total messages scraped: 13604\n"
     ]
    },
    {
     "name": "stdout",
     "output_type": "stream",
     "text": [
      "Scraped 13604 messages\n",
      "Channels: ['@ethio_market_place' '@bole_market' '@zemenExpress' '@shewabrand'\n",
      " '@lobelia4cosmetics' '@yetenaweg']\n"
     ]
    },
    {
     "data": {
      "application/vnd.microsoft.datawrangler.viewer.v0+json": {
       "columns": [
        {
         "name": "index",
         "rawType": "int64",
         "type": "integer"
        },
        {
         "name": "channel",
         "rawType": "object",
         "type": "string"
        },
        {
         "name": "message_id",
         "rawType": "int64",
         "type": "integer"
        },
        {
         "name": "text",
         "rawType": "object",
         "type": "string"
        },
        {
         "name": "date",
         "rawType": "datetime64[ns, UTC]",
         "type": "unknown"
        },
        {
         "name": "views",
         "rawType": "float64",
         "type": "float"
        },
        {
         "name": "forwards",
         "rawType": "float64",
         "type": "float"
        },
        {
         "name": "sender_id",
         "rawType": "int64",
         "type": "integer"
        },
        {
         "name": "media_type",
         "rawType": "object",
         "type": "string"
        }
       ],
       "ref": "3955dce1-a0d6-4fc8-aa75-6e2c215d1616",
       "rows": [
        [
         "0",
         "@ethio_market_place",
         "11011",
         "```📌 iPhone 14 Pro Max```",
         "2024-09-19 12:43:57+00:00",
         "312.0",
         "0.0",
         "-1001601399995",
         "MessageMediaPhoto"
        ],
        [
         "1",
         "@ethio_market_place",
         "11010",
         "```📌 iPhone 15 Pro Max```",
         "2024-09-19 12:43:45+00:00",
         "308.0",
         "0.0",
         "-1001601399995",
         "MessageMediaPhoto"
        ],
        [
         "2",
         "@ethio_market_place",
         "11009",
         "```ዉድ ደንበኞቻችን፣በሁሉም ላፕቶፖች \nላይ ምንም አይነት የዋጋ ጭማሪ አላደረግንም !🙏🙏🙏```",
         "2024-09-19 12:43:25+00:00",
         "272.0",
         "0.0",
         "-1001601399995",
         "MessageMediaPhoto"
        ],
        [
         "3",
         "@ethio_market_place",
         "11008",
         "```ዉድ ደንበኞቻችን፣በሁሉም ላፕቶፖች \nላይ ምንም አይነት የዋጋ ጭማሪ አላደረግንም !🙏🙏🙏\n🛡️ ከ 1 አመት ዋሰትና ጋር🛡️\nበብዛት አስገብተናል😍\nአሁን ደግሞ በ 512 SSD \nበተመሳሳይ ዋጋ😍😍😍\n📌ይህ ላፕቶፕ በማንኛውም \n     ጊዜ ሱቃችን ይገኛል📌\n       👌ሁሌ አለ👌\n🔵💻Hp slim elitbook \nSlim Core i5 6th Generation @2.9ghz\nModel : Hp Elitbook 840 G3 6th gen.\nCondition: Brand New \n🔘GRAPHICS: intel HD graphics 520\n🖥 Screen :14.1inch 1080p FHD \n📼 Storage : 1TB HDD OR 512 SSD\n⏳Ram : 8gb DDR4\n🔋:5hr.+ hours battery life  \n👉white keyboard backlit\n👉finger print support\n👉HD Sound system```",
         "2024-09-19 12:42:56+00:00",
         "245.0",
         "1.0",
         "-1001601399995",
         "MessageMediaPhoto"
        ],
        [
         "4",
         "@ethio_market_place",
         "11007",
         "```ዉድ ደንበኞቻችን፣በሁሉም ላፕቶፖች \nላይ ምንም አይነት የዋጋ ጭማሪ አላደረግንም !🙏🙏🙏\n🔵💻Dell precision \n32GB DDR4 RAM & \n4K TOUCH SCREEN \nCORE i7 10th generation \n6 CORE 12CPU\nIntel® Core™ i7-10850H Processor \n12M Cache, up to 5.10 GHz\nModel : precision 5550\nCondition: Brand New \n🖥 Screen :15.6 inch 2024p 4K\nTOUCH SCREEN \n📼 Storage :512gb Nvme SSD\n⏳Ram : 32gb DDR4 🙄 \n💎 4gb NIVIDA Quadro  T1000\nDedicated Graphics \n🔋:6hr.+ hours battery life \n👉white  keyboard backlit \n👉HD Sound system```",
         "2024-09-19 12:42:38+00:00",
         "198.0",
         "0.0",
         "-1001601399995",
         "MessageMediaPhoto"
        ]
       ],
       "shape": {
        "columns": 8,
        "rows": 5
       }
      },
      "text/html": [
       "<div>\n",
       "<style scoped>\n",
       "    .dataframe tbody tr th:only-of-type {\n",
       "        vertical-align: middle;\n",
       "    }\n",
       "\n",
       "    .dataframe tbody tr th {\n",
       "        vertical-align: top;\n",
       "    }\n",
       "\n",
       "    .dataframe thead th {\n",
       "        text-align: right;\n",
       "    }\n",
       "</style>\n",
       "<table border=\"1\" class=\"dataframe\">\n",
       "  <thead>\n",
       "    <tr style=\"text-align: right;\">\n",
       "      <th></th>\n",
       "      <th>channel</th>\n",
       "      <th>message_id</th>\n",
       "      <th>text</th>\n",
       "      <th>date</th>\n",
       "      <th>views</th>\n",
       "      <th>forwards</th>\n",
       "      <th>sender_id</th>\n",
       "      <th>media_type</th>\n",
       "    </tr>\n",
       "  </thead>\n",
       "  <tbody>\n",
       "    <tr>\n",
       "      <th>0</th>\n",
       "      <td>@ethio_market_place</td>\n",
       "      <td>11011</td>\n",
       "      <td>```📌 iPhone 14 Pro Max```</td>\n",
       "      <td>2024-09-19 12:43:57+00:00</td>\n",
       "      <td>312.0</td>\n",
       "      <td>0.0</td>\n",
       "      <td>-1001601399995</td>\n",
       "      <td>MessageMediaPhoto</td>\n",
       "    </tr>\n",
       "    <tr>\n",
       "      <th>1</th>\n",
       "      <td>@ethio_market_place</td>\n",
       "      <td>11010</td>\n",
       "      <td>```📌 iPhone 15 Pro Max```</td>\n",
       "      <td>2024-09-19 12:43:45+00:00</td>\n",
       "      <td>308.0</td>\n",
       "      <td>0.0</td>\n",
       "      <td>-1001601399995</td>\n",
       "      <td>MessageMediaPhoto</td>\n",
       "    </tr>\n",
       "    <tr>\n",
       "      <th>2</th>\n",
       "      <td>@ethio_market_place</td>\n",
       "      <td>11009</td>\n",
       "      <td>```ዉድ ደንበኞቻችን፣በሁሉም ላፕቶፖች \\nላይ ምንም አይነት የዋጋ ጭማሪ...</td>\n",
       "      <td>2024-09-19 12:43:25+00:00</td>\n",
       "      <td>272.0</td>\n",
       "      <td>0.0</td>\n",
       "      <td>-1001601399995</td>\n",
       "      <td>MessageMediaPhoto</td>\n",
       "    </tr>\n",
       "    <tr>\n",
       "      <th>3</th>\n",
       "      <td>@ethio_market_place</td>\n",
       "      <td>11008</td>\n",
       "      <td>```ዉድ ደንበኞቻችን፣በሁሉም ላፕቶፖች \\nላይ ምንም አይነት የዋጋ ጭማሪ...</td>\n",
       "      <td>2024-09-19 12:42:56+00:00</td>\n",
       "      <td>245.0</td>\n",
       "      <td>1.0</td>\n",
       "      <td>-1001601399995</td>\n",
       "      <td>MessageMediaPhoto</td>\n",
       "    </tr>\n",
       "    <tr>\n",
       "      <th>4</th>\n",
       "      <td>@ethio_market_place</td>\n",
       "      <td>11007</td>\n",
       "      <td>```ዉድ ደንበኞቻችን፣በሁሉም ላፕቶፖች \\nላይ ምንም አይነት የዋጋ ጭማሪ...</td>\n",
       "      <td>2024-09-19 12:42:38+00:00</td>\n",
       "      <td>198.0</td>\n",
       "      <td>0.0</td>\n",
       "      <td>-1001601399995</td>\n",
       "      <td>MessageMediaPhoto</td>\n",
       "    </tr>\n",
       "  </tbody>\n",
       "</table>\n",
       "</div>"
      ],
      "text/plain": [
       "               channel  message_id  \\\n",
       "0  @ethio_market_place       11011   \n",
       "1  @ethio_market_place       11010   \n",
       "2  @ethio_market_place       11009   \n",
       "3  @ethio_market_place       11008   \n",
       "4  @ethio_market_place       11007   \n",
       "\n",
       "                                                text  \\\n",
       "0                          ```📌 iPhone 14 Pro Max```   \n",
       "1                          ```📌 iPhone 15 Pro Max```   \n",
       "2  ```ዉድ ደንበኞቻችን፣በሁሉም ላፕቶፖች \\nላይ ምንም አይነት የዋጋ ጭማሪ...   \n",
       "3  ```ዉድ ደንበኞቻችን፣በሁሉም ላፕቶፖች \\nላይ ምንም አይነት የዋጋ ጭማሪ...   \n",
       "4  ```ዉድ ደንበኞቻችን፣በሁሉም ላፕቶፖች \\nላይ ምንም አይነት የዋጋ ጭማሪ...   \n",
       "\n",
       "                       date  views  forwards      sender_id         media_type  \n",
       "0 2024-09-19 12:43:57+00:00  312.0       0.0 -1001601399995  MessageMediaPhoto  \n",
       "1 2024-09-19 12:43:45+00:00  308.0       0.0 -1001601399995  MessageMediaPhoto  \n",
       "2 2024-09-19 12:43:25+00:00  272.0       0.0 -1001601399995  MessageMediaPhoto  \n",
       "3 2024-09-19 12:42:56+00:00  245.0       1.0 -1001601399995  MessageMediaPhoto  \n",
       "4 2024-09-19 12:42:38+00:00  198.0       0.0 -1001601399995  MessageMediaPhoto  "
      ]
     },
     "execution_count": 3,
     "metadata": {},
     "output_type": "execute_result"
    }
   ],
   "source": [
    "# Scrape data from channels\n",
    "df = await scraper.scrape_all_channels(limit_per_channel=5000)\n",
    "\n",
    "print(f\"Scraped {len(df)} messages\")\n",
    "print(f\"Channels: {df['channel'].unique()}\")\n",
    "df.head()"
   ]
  },
  {
   "cell_type": "markdown",
   "metadata": {},
   "source": [
    "## Step 3: Save Raw Data"
   ]
  },
  {
   "cell_type": "code",
   "execution_count": 4,
   "metadata": {},
   "outputs": [
    {
     "name": "stdout",
     "output_type": "stream",
     "text": [
      "Raw data saved to data/raw/telegram_messages.csv\n"
     ]
    }
   ],
   "source": [
    "# save raw data\n",
    "df.to_csv(\"../data/raw/telegram_messages.csv\", index=False)\n",
    "\n",
    "print(\"Raw data saved to data/raw/telegram_messages.csv\")"
   ]
  },
  {
   "cell_type": "markdown",
   "metadata": {},
   "source": [
    "## Step 4: Text Preprocessing"
   ]
  },
  {
   "cell_type": "code",
   "execution_count": 5,
   "metadata": {},
   "outputs": [
    {
     "name": "stderr",
     "output_type": "stream",
     "text": [
      "c:\\Users\\W-HP\\Desktop\\Amharic-scrapper\\notebooks\\..\\src\\preprocessing\\text_processor.py:85: SettingWithCopyWarning: \n",
      "A value is trying to be set on a copy of a slice from a DataFrame.\n",
      "Try using .loc[row_indexer,col_indexer] = value instead\n",
      "\n",
      "See the caveats in the documentation: https://pandas.pydata.org/pandas-docs/stable/user_guide/indexing.html#returning-a-view-versus-a-copy\n",
      "  df['text_length'] = df['cleaned_text'].str.len()\n",
      "c:\\Users\\W-HP\\Desktop\\Amharic-scrapper\\notebooks\\..\\src\\preprocessing\\text_processor.py:88: SettingWithCopyWarning: \n",
      "A value is trying to be set on a copy of a slice from a DataFrame.\n",
      "Try using .loc[row_indexer,col_indexer] = value instead\n",
      "\n",
      "See the caveats in the documentation: https://pandas.pydata.org/pandas-docs/stable/user_guide/indexing.html#returning-a-view-versus-a-copy\n",
      "  df['entity_hints'] = df['cleaned_text'].apply(self.extract_entities_hints)\n",
      "INFO:src.preprocessing.text_processor:Preprocessed 13443 messages\n"
     ]
    },
    {
     "name": "stdout",
     "output_type": "stream",
     "text": [
      "Processed 13443 messages\n",
      "\n",
      "Sample processed text:\n",
      "Original: ```📌 iPhone 14 Pro Max```...\n",
      "Cleaned:  ```📌 iPhone 14 Pro Max```...\n",
      "---\n",
      "Original: ```📌 iPhone 15 Pro Max```...\n",
      "Cleaned:  ```📌 iPhone 15 Pro Max```...\n",
      "---\n",
      "Original: ```ዉድ ደንበኞቻችን፣በሁሉም ላፕቶፖች \n",
      "ላይ ምንም አይነት የዋጋ ጭማሪ አላደረግንም !🙏🙏🙏```...\n",
      "Cleaned:  ```ዉድ ደንበኞቻችን፣በሁሉም ላፕቶፖች ላይ ምንም አይነት የዋጋ ጭማሪ አላደረግንም !🙏🙏🙏```...\n",
      "---\n"
     ]
    }
   ],
   "source": [
    "# Preprocess the dataset\n",
    "df_processed = processor.preprocess_dataset(df)\n",
    "\n",
    "print(f\"Processed {len(df_processed)} messages\")\n",
    "print(\"\\nSample processed text:\")\n",
    "for i in range(3):\n",
    "    print(f\"Original: {df.iloc[i]['text'][:100]}...\")\n",
    "    print(f\"Cleaned:  {df_processed.iloc[i]['cleaned_text'][:100]}...\")\n",
    "    print(\"---\")"
   ]
  },
  {
   "cell_type": "markdown",
   "metadata": {},
   "source": [
    "## Step 5: Data Analysis"
   ]
  },
  {
   "cell_type": "code",
   "execution_count": 6,
   "metadata": {},
   "outputs": [
    {
     "name": "stdout",
     "output_type": "stream",
     "text": [
      "Dataset Statistics:\n",
      "Total messages: 13443\n",
      "Average text length: 246.31\n",
      "Messages per channel:\n",
      "channel\n",
      "@ethio_market_place    5000\n",
      "@zemenExpress          3389\n",
      "@shewabrand            2775\n",
      "@lobelia4cosmetics     1649\n",
      "@yetenaweg              612\n",
      "@bole_market             18\n",
      "Name: count, dtype: int64\n",
      "\n",
      "Entity Hints Found:\n",
      "Price mentions: 12366\n",
      "Location mentions: 4013\n"
     ]
    }
   ],
   "source": [
    "# Basic statistics\n",
    "print(\"Dataset Statistics:\")\n",
    "print(f\"Total messages: {len(df_processed)}\")\n",
    "print(f\"Average text length: {df_processed['text_length'].mean():.2f}\")\n",
    "print(f\"Messages per channel:\")\n",
    "print(df_processed['channel'].value_counts())\n",
    "\n",
    "# Entity hints analysis\n",
    "print(\"\\nEntity Hints Found:\")\n",
    "total_prices = sum(len(hints.get('prices', [])) for hints in df_processed['entity_hints'] if isinstance(hints, dict))\n",
    "total_locations = sum(len(hints.get('locations', [])) for hints in df_processed['entity_hints'] if isinstance(hints, dict))\n",
    "print(f\"Price mentions: {total_prices}\")\n",
    "print(f\"Location mentions: {total_locations}\")"
   ]
  },
  {
   "cell_type": "markdown",
   "metadata": {},
   "source": [
    "## Step 6: Save Processed Data"
   ]
  },
  {
   "cell_type": "code",
   "execution_count": 7,
   "metadata": {},
   "outputs": [
    {
     "name": "stdout",
     "output_type": "stream",
     "text": [
      "Processed data saved to data/processed/cleaned_messages.csv\n",
      "\n",
      "Data ingestion and preprocessing completed!\n"
     ]
    }
   ],
   "source": [
    "# Save processed data\n",
    "df_processed.to_csv(\"../data/processed/cleaned_messages.csv\", index=False)\n",
    "\n",
    "print(\"Processed data saved to data/processed/cleaned_messages.csv\")\n",
    "print(\"\\nData ingestion and preprocessing completed!\")"
   ]
  },
  {
   "cell_type": "code",
   "execution_count": null,
   "metadata": {},
   "outputs": [],
   "source": []
  }
 ],
 "metadata": {
  "kernelspec": {
   "display_name": "Python 3",
   "language": "python",
   "name": "python3"
  },
  "language_info": {
   "codemirror_mode": {
    "name": "ipython",
    "version": 3
   },
   "file_extension": ".py",
   "mimetype": "text/x-python",
   "name": "python",
   "nbconvert_exporter": "python",
   "pygments_lexer": "ipython3",
   "version": "3.13.2"
  }
 },
 "nbformat": 4,
 "nbformat_minor": 4
}
