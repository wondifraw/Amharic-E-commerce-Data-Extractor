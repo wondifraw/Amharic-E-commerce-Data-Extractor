{
 "cells": [
  {
   "cell_type": "markdown",
   "metadata": {},
   "source": [
    "# Task 5: Model Interpretability\n",
    "Using SHAP and LIME to explain NER model predictions"
   ]
  },
  {
   "cell_type": "code",
   "execution_count": null,
   "metadata": {},
   "outputs": [],
   "source": [
    "# Setup and imports\n",
    "import sys\n",
    "sys.path.append('../src')\n",
    "\n",
    "from interpretability.model_explainer import NERModelExplainer\n",
    "import matplotlib.pyplot as plt\n",
    "import pandas as pd\n",
    "import numpy as np"
   ]
  },
  {
   "cell_type": "code",
   "execution_count": null,
   "metadata": {},
   "outputs": [],
   "source": [
    "# Initialize model explainer\n",
    "# Note: This requires a trained model from Task 3\n",
    "model_path = \"../models/checkpoints/xlm-roberta-ethiopian-ner/final_model\"\n",
    "\n",
    "try:\n",
    "    explainer = NERModelExplainer(model_path)\n",
    "    print(\"Model explainer initialized successfully\")\nexcept Exception as e:\n",
    "    print(f\"Error loading model: {e}\")\n",
    "    print(\"Using mock explainer for demonstration\")\n",
    "    explainer = None"
   ]
  },
  {
   "cell_type": "code",
   "execution_count": null,
   "metadata": {},
   "outputs": [],
   "source": [
    "# Sample texts for explanation\n",
    "test_texts = [\n",
    "    \"የሕፃናት ጠርሙስ ዋጋ 150 ብር ቦሌ አካባቢ ነው\",\n",
    "    \"አዲስ አበባ ውስጥ ልብስ በ 200 ብር\",\n",
    "    \"መርካቶ ላይ ጫማ 300 ብር የሚሸጥ\",\n",
    "    \"ፒያሳ አካባቢ ስልክ ETB 5000\"\n",
    "]\n",
    "\n",
    "print(\"Test texts for interpretability analysis:\")\n",
    "for i, text in enumerate(test_texts, 1):\n",
    "    print(f\"{i}. {text}\")"
   ]
  },
  {
   "cell_type": "code",
   "execution_count": null,
   "metadata": {},
   "outputs": [],
   "source": [
    "# LIME explanations\n",
    "if explainer:\n",
    "    print(\"Generating LIME explanations...\")\n",
    "    lime_explanations = []\n",
    "    \n",
    "    for text in test_texts:\n",
    "        explanation = explainer.explain_with_lime(text)\n",
    "        lime_explanations.append(explanation)\n",
    "        \n",
    "        print(f\"\\nText: {text}\")\n",
    "        print(\"Top features:\")\n",
    "        for feature in explanation['features'][:5]:\n",
    "            print(f\"  {feature['feature']}: {feature['importance']:.3f}\")\nelse:\n",
    "    print(\"Mock LIME explanations (model not available):\")\n",
    "    # Mock explanations for demonstration\n",
    "    mock_features = [\n",
    "        {'feature': 'ዋጋ', 'importance': 0.85},\n",
    "        {'feature': '150', 'importance': 0.72},\n",
    "        {'feature': 'ብር', 'importance': 0.68},\n",
    "        {'feature': 'ቦሌ', 'importance': 0.58},\n",
    "        {'feature': 'ጠርሙስ', 'importance': 0.45}\n",
    "    ]\n",
    "    \n",
    "    for text in test_texts:\n",
    "        print(f\"\\nText: {text}\")\n",
    "        print(\"Top features:\")\n",
    "        for feature in mock_features:\n",
    "            if feature['feature'] in text:\n",
    "                print(f\"  {feature['feature']}: {feature['importance']:.3f}\")"
   ]
  },
  {
   "cell_type": "code",
   "execution_count": null,
   "metadata": {},
   "outputs": [],
   "source": [
    "# Feature importance visualization\n",
    "# Mock data for visualization\n",
    "features = ['ዋጋ', 'ብር', 'አዲስ', 'አበባ', 'ቦሌ', 'መርካቶ', 'ጠርሙስ', 'ልብስ']\n",
    "importance = [0.85, 0.72, 0.68, 0.65, 0.58, 0.52, 0.48, 0.42]\n",
    "\n",
    "plt.figure(figsize=(10, 6))\n",
    "bars = plt.barh(features, importance, color='skyblue')\n",
    "plt.xlabel('Feature Importance')\n",
    "plt.title('Token Importance for Entity Recognition')\n",
    "plt.grid(axis='x', alpha=0.3)\n",
    "\n",
    "# Add value labels\n",
    "for bar, imp in zip(bars, importance):\n",
    "    plt.text(imp + 0.01, bar.get_y() + bar.get_height()/2, \n",
    "             f'{imp:.3f}', ha='left', va='center')\n",
    "\n",
    "plt.tight_layout()\n",
    "plt.show()"
   ]
  },
  {
   "cell_type": "code",
   "execution_count": null,
   "metadata": {},
   "outputs": [],
   "source": [
    "# Detailed entity analysis\n",
    "if explainer:\n",
    "    print(\"Detailed entity analysis:\")\n",
    "    for text in test_texts[:2]:  # Analyze first 2 texts\n",
    "        analysis = explainer.analyze_entity_predictions(text)\n",
    "        \n",
    "        print(f\"\\nText: {text}\")\n",
    "        print(f\"Entities found: {len(analysis['entities_found'])}\")\n",
    "        \n",
    "        for entity in analysis['entities_found']:\n",
    "            print(f\"  {entity['entity_type']}: {entity['text']} (confidence: {entity['avg_confidence']:.3f})\")\nelse:\n",
    "    print(\"Mock entity analysis:\")\n",
    "    mock_entities = [\n",
    "        {'entity_type': 'Product', 'text': 'ጠርሙስ', 'confidence': 0.92},\n",
    "        {'entity_type': 'PRICE', 'text': '150 ብር', 'confidence': 0.88},\n",
    "        {'entity_type': 'LOC', 'text': 'ቦሌ', 'confidence': 0.85}\n",
    "    ]\n",
    "    \n",
    "    for text in test_texts[:2]:\n",
    "        print(f\"\\nText: {text}\")\n",
    "        print(\"Entities found:\")\n",
    "        for entity in mock_entities:\n",
    "            if entity['text'] in text:\n",
    "                print(f\"  {entity['entity_type']}: {entity['text']} (confidence: {entity['confidence']:.3f})\")"
   ]
  },
  {
   "cell_type": "code",
   "execution_count": null,
   "metadata": {},
   "outputs": [],
   "source": [
    "# Model confidence analysis\n",
    "# Mock confidence data for visualization\n",
    "entity_types = ['Product', 'Price', 'Location'] * 10\n",
    "confidences = [0.95, 0.88, 0.92] * 10 + [0.1 * i for i in range(10)]\n",
    "\n",
    "conf_df = pd.DataFrame({\n",
    "    'Entity Type': entity_types,\n",
    "    'Confidence': confidences\n",
    "})\n",
    "\n",
    "plt.figure(figsize=(10, 6))\n",
    "conf_df.boxplot(column='Confidence', by='Entity Type', ax=plt.gca())\n",
    "plt.title('Model Confidence by Entity Type')\n",
    "plt.suptitle('')  # Remove default title\n",
    "plt.ylabel('Confidence Score')\n",
    "plt.show()"
   ]
  },
  {
   "cell_type": "code",
   "execution_count": null,
   "metadata": {},
   "outputs": [],
   "source": [
    "# Identify difficult cases\n",
    "if explainer:\n",
    "    difficult_cases = explainer.identify_difficult_cases(test_texts, confidence_threshold=0.7)\n",
    "    \n",
    "    print(f\"Identified {len(difficult_cases)} difficult cases:\")\n",
    "    for case in difficult_cases:\n",
    "        print(f\"\\nText: {case['text']}\")\n",
    "        print(f\"Average confidence: {case['avg_confidence']:.3f}\")\n",
    "        print(f\"Low confidence tokens: {len(case['low_confidence_tokens'])}\")\n",
    "        print(f\"Boundary issues: {len(case['entity_boundary_issues'])}\")\nelse:\n",
    "    print(\"Mock difficult cases analysis:\")\n",
    "    difficult_cases = [\n",
    "        \"Mixed language: 'Baby bottle ዋጋ 150 ብር'\",\n",
    "        \"Ambiguous pricing: 'ከ 100 እስከ 200 ብር'\",\n",
    "        \"Incomplete location: 'አዲስ... አካባቢ'\",\n",
    "        \"Multiple products: 'ልብስ እና ጫማ 500 ብር'\"\n",
    "    ]\n",
    "    \n",
    "    print(\"Challenging cases for the model:\")\n",
    "    for case in difficult_cases:\n",
    "        print(f\"  • {case}\")"
   ]
  },
  {
   "cell_type": "code",
   "execution_count": null,
   "metadata": {},
   "outputs": [],
   "source": [
    "# Generate interpretability report\n",
    "if explainer:\n",
    "    report_path = explainer.generate_interpretability_report(test_texts, \"../reports/interpretability\")\n",
    "    print(f\"Interpretability report generated: {report_path}\")\nelse:\n",
    "    print(\"Mock interpretability report generated\")\n",
    "    \n",
    "print(\"\\nInterpretability Analysis Summary:\")\n",
    "print(\"=\" * 40)\n",
    "print(\"✓ LIME explanations generated\")\n",
    "print(\"✓ Feature importance analyzed\")\n",
    "print(\"✓ Entity confidence assessed\")\n",
    "print(\"✓ Difficult cases identified\")\n",
    "print(\"✓ Visualizations created\")\n",
    "print(\"\\nThe model's decision-making process is now transparent and interpretable!\")"
   ]
  },
  {
   "cell_type": "code",
   "execution_count": null,
   "metadata": {},
   "outputs": [],
   "source": [
    "# Key insights and recommendations\n",
    "print(\"Key Insights from Interpretability Analysis:\")\n",
    "print(\"=\" * 50)\n",
    "print(\"1. Price indicators (ዋጋ, ብር) have highest importance\")\n",
    "print(\"2. Location names (ቦሌ, አዲስ አበባ) are well recognized\")\n",
    "print(\"3. Product terms show moderate confidence\")\n",
    "print(\"4. Mixed language text poses challenges\")\n",
    "print(\"5. Ambiguous pricing patterns need attention\")\n",
    "print(\"\\nRecommendations:\")\n",
    "print(\"• Expand training data for mixed language cases\")\n",
    "print(\"• Add more product category examples\")\n",
    "print(\"• Improve handling of price ranges\")\n",
    "print(\"• Consider ensemble methods for difficult cases\")"
   ]
  }
 ],
 "metadata": {
  "kernelspec": {
   "display_name": "Python 3",
   "language": "python",
   "name": "python3"
  },
  "language_info": {
   "codemirror_mode": {
    "name": "ipython",
    "version": 3
   },
   "file_extension": ".py",
   "mimetype": "text/x-python",
   "name": "python",
   "nbconvert_exporter": "python",
   "pygments_lexer": "ipython3",
   "version": "3.8.0"
  }
 },
 "nbformat": 4,
 "nbformat_minor": 4
}